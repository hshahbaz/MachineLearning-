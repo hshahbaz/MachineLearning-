{
 "cells": [
  {
   "cell_type": "code",
   "execution_count": 224,
   "metadata": {
    "collapsed": true
   },
   "outputs": [],
   "source": [
    "import numpy as np\n",
    "import pandas as pd\n",
    "import matplotlib.pyplot as plt\n",
    "import statsmodels.formula.api as smf\n",
    "import statsmodels.stats.api as sms\n",
    "import statsmodels.api as sm\n",
    "import random \n",
    "import math\n",
    "import scipy.stats as stats\n",
    "from sklearn.linear_model import LogisticRegression\n",
    "# sklearn.metrics has a bunch of really handy evaluation functions\n",
    "from sklearn.metrics import confusion_matrix, accuracy_score, classification_report, roc_curve, roc_auc_score\n",
    "from sklearn import datasets\n",
    "import seaborn as sns"
   ]
  },
  {
   "cell_type": "code",
   "execution_count": null,
   "metadata": {
    "collapsed": true
   },
   "outputs": [],
   "source": [
    "#QUESTION 4 \n",
    "\n",
    "#A)Given there are some set of observations, with p=1. X is uniformly distributed between [0,1]. Lets create a pattern and see how we fare: To predict response for a test observation, with X=0.1, use observations in range [0.05,0.15]. To predict response for a test observation, with X=0.6, use observations in range [0.55,0.65]. To predict response for a test observation, with X=0.99, use observations in range [0.94,1.04]. 10% of observations from interval of length 1 fall into interval of length 0.1\n",
    "\n",
    "\n",
    "#B) Assuming X1 and X2 to be independant, the fraction of available observations we will use to make the prediction is 10% * 10% = 1\n",
    "\n",
    "#C) 10 % = 0.01^100 = 1.e-100 ~= 0. \n",
    "\n",
    "#D) We can see from part A and part B that as we increase the dimensions we exponentially reduce the number of observations near the point in consideration. Hence a drawback of KNN when p is large is that there are very few training observations around any given test observation.\n",
    "\n",
    "#E) For p=1 we have length =0.1. For p=2, we have length =0.1^1/2 and for p=100, we have length=0.1^1/100."
   ]
  },
  {
   "cell_type": "code",
   "execution_count": 1,
   "metadata": {
    "collapsed": true
   },
   "outputs": [],
   "source": [
    "#QUESTION 6\n",
    "\n",
    "#A) P(x) = e^(Bo+B1X1+B2X2) / 1 + e^(Bo+B1X1+B2X2). Pluggin in the values where Bo = -6, B1=0.05, B2 = 1, P(x) = 0.38\n",
    "\n",
    "#B) P(x) = e^(Bo+B1X1+B2X2) / 1 + e^(Bo+B1X1+B2X2) \n",
    "#   e^(-6+ 0.05X1 + 1(3.5)) / 1 + e^(-6 + 0.05X1 + 1(3.5)) = 0.5\n",
    "#   taking Log of boths side we get X1 = 50 "
   ]
  },
  {
   "cell_type": "code",
   "execution_count": null,
   "metadata": {
    "collapsed": true
   },
   "outputs": [],
   "source": [
    "#QUESTION 9\n",
    "\n",
    "#A)  P(x)/1+P(x) = 0.37/(1+0.37) = 0.27\n",
    "\n",
    "#B) 0.16/1-0.16 = 0.19"
   ]
  },
  {
   "cell_type": "code",
   "execution_count": 43,
   "metadata": {
    "collapsed": false
   },
   "outputs": [
    {
     "name": "stdout",
     "output_type": "stream",
     "text": [
      "8.0\n"
     ]
    }
   ],
   "source": [
    "#QUESTION 12\n",
    "\n",
    "#A)\n",
    "\n",
    "def Power(): \n",
    "    Power = math.pow(2,3)\n",
    "    print(Power)\n",
    "Power()\n",
    "\n"
   ]
  },
  {
   "cell_type": "code",
   "execution_count": 48,
   "metadata": {
    "collapsed": false
   },
   "outputs": [
    {
     "data": {
      "text/plain": [
       "6561"
      ]
     },
     "execution_count": 48,
     "metadata": {},
     "output_type": "execute_result"
    }
   ],
   "source": [
    "#B)\n",
    "def Power2(x,a):\n",
    "    res = x**a\n",
    "    return res;\n",
    "Power2(3,8)"
   ]
  },
  {
   "cell_type": "code",
   "execution_count": 51,
   "metadata": {
    "collapsed": false
   },
   "outputs": [
    {
     "data": {
      "text/plain": [
       "1000"
      ]
     },
     "execution_count": 51,
     "metadata": {},
     "output_type": "execute_result"
    }
   ],
   "source": [
    "#C)\n",
    "\n",
    "Power2(10,3)\n"
   ]
  },
  {
   "cell_type": "code",
   "execution_count": 52,
   "metadata": {
    "collapsed": false
   },
   "outputs": [
    {
     "data": {
      "text/plain": [
       "2251799813685248"
      ]
     },
     "execution_count": 52,
     "metadata": {},
     "output_type": "execute_result"
    }
   ],
   "source": [
    "#C)\n",
    "Power2(8,17)\n"
   ]
  },
  {
   "cell_type": "code",
   "execution_count": 53,
   "metadata": {
    "collapsed": false
   },
   "outputs": [
    {
     "data": {
      "text/plain": [
       "2248091"
      ]
     },
     "execution_count": 53,
     "metadata": {},
     "output_type": "execute_result"
    }
   ],
   "source": [
    "#C)\n",
    "Power2(131,3)"
   ]
  },
  {
   "cell_type": "code",
   "execution_count": 60,
   "metadata": {
    "collapsed": false
   },
   "outputs": [
    {
     "name": "stdout",
     "output_type": "stream",
     "text": [
      "8\n"
     ]
    }
   ],
   "source": [
    "#D)\n",
    "def Power3(x,a):\n",
    "    return x**a\n",
    "result = Power3(2,3)\n",
    "print(result)\n",
    "\n"
   ]
  },
  {
   "cell_type": "code",
   "execution_count": 76,
   "metadata": {
    "collapsed": false
   },
   "outputs": [
    {
     "data": {
      "image/png": "[encoded data removed]",
      "text/plain": [
       "<matplotlib.figure.Figure at 0x1c446849a20>"
      ]
     },
     "metadata": {},
     "output_type": "display_data"
    }
   ],
   "source": [
    "#E)\n",
    "A1,A2 =[],[]\n",
    "for x in range(1, 10):\n",
    "    A1.append(x)\n",
    "    A2.append(Power3(x,2))\n",
    "    plt.plot(A1, A2) \n",
    "plt.show()"
   ]
  },
  {
   "cell_type": "code",
   "execution_count": 81,
   "metadata": {
    "collapsed": false
   },
   "outputs": [
    {
     "data": {
      "image/png": "[encoded data removed]",
      "text/plain": [
       "<matplotlib.figure.Figure at 0x1c446dd93c8>"
      ]
     },
     "metadata": {},
     "output_type": "display_data"
    }
   ],
   "source": [
    "#F)\n",
    "A1,A2 =[],[]\n",
    "def PlotPower(x,a):\n",
    "    return x**a\n",
    "\n",
    "for x in range(1, 10):\n",
    "        A1.append(x)\n",
    "        A2.append(PlotPower(x,3))\n",
    "        plt.plot(A1, A2) \n",
    "plt.show()"
   ]
  },
  {
   "cell_type": "code",
   "execution_count": 210,
   "metadata": {
    "collapsed": false
   },
   "outputs": [
    {
     "name": "stdout",
     "output_type": "stream",
     "text": [
      "         CRIM    ZN  INDUS  CHAS    NOX     RM    AGE     DIS  RAD  TAX  \\\n",
      "1     0.00632  18.0   2.31     0  0.538  6.575   65.2  4.0900    1  296   \n",
      "2     0.02731   0.0   7.07     0  0.469  6.421   78.9  4.9671    2  242   \n",
      "3     0.02729   0.0   7.07     0  0.469  7.185   61.1  4.9671    2  242   \n",
      "4     0.03237   0.0   2.18     0  0.458  6.998   45.8  6.0622    3  222   \n",
      "5     0.06905   0.0   2.18     0  0.458  7.147   54.2  6.0622    3  222   \n",
      "6     0.02985   0.0   2.18     0  0.458  6.430   58.7  6.0622    3  222   \n",
      "7     0.08829  12.5   7.87     0  0.524  6.012   66.6  5.5605    5  311   \n",
      "8     0.14455  12.5   7.87     0  0.524  6.172   96.1  5.9505    5  311   \n",
      "9     0.21124  12.5   7.87     0  0.524  5.631  100.0  6.0821    5  311   \n",
      "10    0.17004  12.5   7.87     0  0.524  6.004   85.9  6.5921    5  311   \n",
      "11    0.22489  12.5   7.87     0  0.524  6.377   94.3  6.3467    5  311   \n",
      "12    0.11747  12.5   7.87     0  0.524  6.009   82.9  6.2267    5  311   \n",
      "13    0.09378  12.5   7.87     0  0.524  5.889   39.0  5.4509    5  311   \n",
      "14    0.62976   0.0   8.14     0  0.538  5.949   61.8  4.7075    4  307   \n",
      "15    0.63796   0.0   8.14     0  0.538  6.096   84.5  4.4619    4  307   \n",
      "16    0.62739   0.0   8.14     0  0.538  5.834   56.5  4.4986    4  307   \n",
      "17    1.05393   0.0   8.14     0  0.538  5.935   29.3  4.4986    4  307   \n",
      "18    0.78420   0.0   8.14     0  0.538  5.990   81.7  4.2579    4  307   \n",
      "19    0.80271   0.0   8.14     0  0.538  5.456   36.6  3.7965    4  307   \n",
      "20    0.72580   0.0   8.14     0  0.538  5.727   69.5  3.7965    4  307   \n",
      "21    1.25179   0.0   8.14     0  0.538  5.570   98.1  3.7979    4  307   \n",
      "22    0.85204   0.0   8.14     0  0.538  5.965   89.2  4.0123    4  307   \n",
      "23    1.23247   0.0   8.14     0  0.538  6.142   91.7  3.9769    4  307   \n",
      "24    0.98843   0.0   8.14     0  0.538  5.813  100.0  4.0952    4  307   \n",
      "25    0.75026   0.0   8.14     0  0.538  5.924   94.1  4.3996    4  307   \n",
      "26    0.84054   0.0   8.14     0  0.538  5.599   85.7  4.4546    4  307   \n",
      "27    0.67191   0.0   8.14     0  0.538  5.813   90.3  4.6820    4  307   \n",
      "28    0.95577   0.0   8.14     0  0.538  6.047   88.8  4.4534    4  307   \n",
      "29    0.77299   0.0   8.14     0  0.538  6.495   94.4  4.4547    4  307   \n",
      "30    1.00245   0.0   8.14     0  0.538  6.674   87.3  4.2390    4  307   \n",
      "..        ...   ...    ...   ...    ...    ...    ...     ...  ...  ...   \n",
      "477   4.87141   0.0  18.10     0  0.614  6.484   93.6  2.3053   24  666   \n",
      "478  15.02340   0.0  18.10     0  0.614  5.304   97.3  2.1007   24  666   \n",
      "479  10.23300   0.0  18.10     0  0.614  6.185   96.7  2.1705   24  666   \n",
      "480  14.33370   0.0  18.10     0  0.614  6.229   88.0  1.9512   24  666   \n",
      "481   5.82401   0.0  18.10     0  0.532  6.242   64.7  3.4242   24  666   \n",
      "482   5.70818   0.0  18.10     0  0.532  6.750   74.9  3.3317   24  666   \n",
      "483   5.73116   0.0  18.10     0  0.532  7.061   77.0  3.4106   24  666   \n",
      "484   2.81838   0.0  18.10     0  0.532  5.762   40.3  4.0983   24  666   \n",
      "485   2.37857   0.0  18.10     0  0.583  5.871   41.9  3.7240   24  666   \n",
      "486   3.67367   0.0  18.10     0  0.583  6.312   51.9  3.9917   24  666   \n",
      "487   5.69175   0.0  18.10     0  0.583  6.114   79.8  3.5459   24  666   \n",
      "488   4.83567   0.0  18.10     0  0.583  5.905   53.2  3.1523   24  666   \n",
      "489   0.15086   0.0  27.74     0  0.609  5.454   92.7  1.8209    4  711   \n",
      "490   0.18337   0.0  27.74     0  0.609  5.414   98.3  1.7554    4  711   \n",
      "491   0.20746   0.0  27.74     0  0.609  5.093   98.0  1.8226    4  711   \n",
      "492   0.10574   0.0  27.74     0  0.609  5.983   98.8  1.8681    4  711   \n",
      "493   0.11132   0.0  27.74     0  0.609  5.983   83.5  2.1099    4  711   \n",
      "494   0.17331   0.0   9.69     0  0.585  5.707   54.0  2.3817    6  391   \n",
      "495   0.27957   0.0   9.69     0  0.585  5.926   42.6  2.3817    6  391   \n",
      "496   0.17899   0.0   9.69     0  0.585  5.670   28.8  2.7986    6  391   \n",
      "497   0.28960   0.0   9.69     0  0.585  5.390   72.9  2.7986    6  391   \n",
      "498   0.26838   0.0   9.69     0  0.585  5.794   70.6  2.8927    6  391   \n",
      "499   0.23912   0.0   9.69     0  0.585  6.019   65.3  2.4091    6  391   \n",
      "500   0.17783   0.0   9.69     0  0.585  5.569   73.5  2.3999    6  391   \n",
      "501   0.22438   0.0   9.69     0  0.585  6.027   79.7  2.4982    6  391   \n",
      "502   0.06263   0.0  11.93     0  0.573  6.593   69.1  2.4786    1  273   \n",
      "503   0.04527   0.0  11.93     0  0.573  6.120   76.7  2.2875    1  273   \n",
      "504   0.06076   0.0  11.93     0  0.573  6.976   91.0  2.1675    1  273   \n",
      "505   0.10959   0.0  11.93     0  0.573  6.794   89.3  2.3889    1  273   \n",
      "506   0.04741   0.0  11.93     0  0.573  6.030   80.8  2.5050    1  273   \n",
      "\n",
      "     PTRATIO   BLACK  LSTAT  MEDV  \n",
      "1       15.3  396.90   4.98  24.0  \n",
      "2       17.8  396.90   9.14  21.6  \n",
      "3       17.8  392.83   4.03  34.7  \n",
      "4       18.7  394.63   2.94  33.4  \n",
      "5       18.7  396.90   5.33  36.2  \n",
      "6       18.7  394.12   5.21  28.7  \n",
      "7       15.2  395.60  12.43  22.9  \n",
      "8       15.2  396.90  19.15  27.1  \n",
      "9       15.2  386.63  29.93  16.5  \n",
      "10      15.2  386.71  17.10  18.9  \n",
      "11      15.2  392.52  20.45  15.0  \n",
      "12      15.2  396.90  13.27  18.9  \n",
      "13      15.2  390.50  15.71  21.7  \n",
      "14      21.0  396.90   8.26  20.4  \n",
      "15      21.0  380.02  10.26  18.2  \n",
      "16      21.0  395.62   8.47  19.9  \n",
      "17      21.0  386.85   6.58  23.1  \n",
      "18      21.0  386.75  14.67  17.5  \n",
      "19      21.0  288.99  11.69  20.2  \n",
      "20      21.0  390.95  11.28  18.2  \n",
      "21      21.0  376.57  21.02  13.6  \n",
      "22      21.0  392.53  13.83  19.6  \n",
      "23      21.0  396.90  18.72  15.2  \n",
      "24      21.0  394.54  19.88  14.5  \n",
      "25      21.0  394.33  16.30  15.6  \n",
      "26      21.0  303.42  16.51  13.9  \n",
      "27      21.0  376.88  14.81  16.6  \n",
      "28      21.0  306.38  17.28  14.8  \n",
      "29      21.0  387.94  12.80  18.4  \n",
      "30      21.0  380.23  11.98  21.0  \n",
      "..       ...     ...    ...   ...  \n",
      "477     20.2  396.21  18.68  16.7  \n",
      "478     20.2  349.48  24.91  12.0  \n",
      "479     20.2  379.70  18.03  14.6  \n",
      "480     20.2  383.32  13.11  21.4  \n",
      "481     20.2  396.90  10.74  23.0  \n",
      "482     20.2  393.07   7.74  23.7  \n",
      "483     20.2  395.28   7.01  25.0  \n",
      "484     20.2  392.92  10.42  21.8  \n",
      "485     20.2  370.73  13.34  20.6  \n",
      "486     20.2  388.62  10.58  21.2  \n",
      "487     20.2  392.68  14.98  19.1  \n",
      "488     20.2  388.22  11.45  20.6  \n",
      "489     20.1  395.09  18.06  15.2  \n",
      "490     20.1  344.05  23.97   7.0  \n",
      "491     20.1  318.43  29.68   8.1  \n",
      "492     20.1  390.11  18.07  13.6  \n",
      "493     20.1  396.90  13.35  20.1  \n",
      "494     19.2  396.90  12.01  21.8  \n",
      "495     19.2  396.90  13.59  24.5  \n",
      "496     19.2  393.29  17.60  23.1  \n",
      "497     19.2  396.90  21.14  19.7  \n",
      "498     19.2  396.90  14.10  18.3  \n",
      "499     19.2  396.90  12.92  21.2  \n",
      "500     19.2  395.77  15.10  17.5  \n",
      "501     19.2  396.90  14.33  16.8  \n",
      "502     21.0  391.99   9.67  22.4  \n",
      "503     21.0  396.90   9.08  20.6  \n",
      "504     21.0  396.90   5.64  23.9  \n",
      "505     21.0  393.45   6.48  22.0  \n",
      "506     21.0  396.90   7.88  11.9  \n",
      "\n",
      "[506 rows x 14 columns]\n"
     ]
    }
   ],
   "source": [
    "#QUESTION 13\n",
    "\n",
    "with open('E:/UChicago Courses/Autumn Quarter 2017/Machine Learning/Assignments/HW3/Boston.csv', newline ='') as data:\n",
    "        df = pd.read_csv(data, index_col=0, parse_dates=True)\n",
    "        print(df)"
   ]
  },
  {
   "cell_type": "code",
   "execution_count": 216,
   "metadata": {
    "collapsed": false
   },
   "outputs": [],
   "source": [
    "# LOGISTIC REGRESSION \n",
    "\n",
    "\n",
    "crimlen = len(df.CRIM) \n",
    "x = np.zeros(crimlen) \n",
    "med = np.median(df.CRIM)\n",
    "\n",
    "x[df.CRIM > med] =1\n"
   ]
  },
  {
   "cell_type": "code",
   "execution_count": 212,
   "metadata": {
    "collapsed": false
   },
   "outputs": [
    {
     "name": "stdout",
     "output_type": "stream",
     "text": [
      "     CRIM01\n",
      "0       0.0\n",
      "1       0.0\n",
      "2       0.0\n",
      "3       0.0\n",
      "4       0.0\n",
      "5       0.0\n",
      "6       0.0\n",
      "7       0.0\n",
      "8       0.0\n",
      "9       0.0\n",
      "10      0.0\n",
      "11      0.0\n",
      "12      0.0\n",
      "13      1.0\n",
      "14      1.0\n",
      "15      1.0\n",
      "16      1.0\n",
      "17      1.0\n",
      "18      1.0\n",
      "19      1.0\n",
      "20      1.0\n",
      "21      1.0\n",
      "22      1.0\n",
      "23      1.0\n",
      "24      1.0\n",
      "25      1.0\n",
      "26      1.0\n",
      "27      1.0\n",
      "28      1.0\n",
      "29      1.0\n",
      "..      ...\n",
      "476     1.0\n",
      "477     1.0\n",
      "478     1.0\n",
      "479     1.0\n",
      "480     1.0\n",
      "481     1.0\n",
      "482     1.0\n",
      "483     1.0\n",
      "484     1.0\n",
      "485     1.0\n",
      "486     1.0\n",
      "487     1.0\n",
      "488     0.0\n",
      "489     0.0\n",
      "490     0.0\n",
      "491     0.0\n",
      "492     0.0\n",
      "493     0.0\n",
      "494     1.0\n",
      "495     0.0\n",
      "496     1.0\n",
      "497     1.0\n",
      "498     0.0\n",
      "499     0.0\n",
      "500     0.0\n",
      "501     0.0\n",
      "502     0.0\n",
      "503     0.0\n",
      "504     0.0\n",
      "505     0.0\n",
      "\n",
      "[506 rows x 1 columns]\n"
     ]
    }
   ],
   "source": [
    "df2 = pd.DataFrame(x, columns = ['CRIM01'])\n",
    "print(df2)"
   ]
  },
  {
   "cell_type": "code",
   "execution_count": 218,
   "metadata": {
    "collapsed": false
   },
   "outputs": [
    {
     "name": "stdout",
     "output_type": "stream",
     "text": [
      "         CRIM    ZN  INDUS  CHAS    NOX     RM    AGE     DIS  RAD  TAX  \\\n",
      "1     0.00632  18.0   2.31     0  0.538  6.575   65.2  4.0900    1  296   \n",
      "2     0.02731   0.0   7.07     0  0.469  6.421   78.9  4.9671    2  242   \n",
      "3     0.02729   0.0   7.07     0  0.469  7.185   61.1  4.9671    2  242   \n",
      "4     0.03237   0.0   2.18     0  0.458  6.998   45.8  6.0622    3  222   \n",
      "5     0.06905   0.0   2.18     0  0.458  7.147   54.2  6.0622    3  222   \n",
      "6     0.02985   0.0   2.18     0  0.458  6.430   58.7  6.0622    3  222   \n",
      "7     0.08829  12.5   7.87     0  0.524  6.012   66.6  5.5605    5  311   \n",
      "8     0.14455  12.5   7.87     0  0.524  6.172   96.1  5.9505    5  311   \n",
      "9     0.21124  12.5   7.87     0  0.524  5.631  100.0  6.0821    5  311   \n",
      "10    0.17004  12.5   7.87     0  0.524  6.004   85.9  6.5921    5  311   \n",
      "11    0.22489  12.5   7.87     0  0.524  6.377   94.3  6.3467    5  311   \n",
      "12    0.11747  12.5   7.87     0  0.524  6.009   82.9  6.2267    5  311   \n",
      "13    0.09378  12.5   7.87     0  0.524  5.889   39.0  5.4509    5  311   \n",
      "14    0.62976   0.0   8.14     0  0.538  5.949   61.8  4.7075    4  307   \n",
      "15    0.63796   0.0   8.14     0  0.538  6.096   84.5  4.4619    4  307   \n",
      "16    0.62739   0.0   8.14     0  0.538  5.834   56.5  4.4986    4  307   \n",
      "17    1.05393   0.0   8.14     0  0.538  5.935   29.3  4.4986    4  307   \n",
      "18    0.78420   0.0   8.14     0  0.538  5.990   81.7  4.2579    4  307   \n",
      "19    0.80271   0.0   8.14     0  0.538  5.456   36.6  3.7965    4  307   \n",
      "20    0.72580   0.0   8.14     0  0.538  5.727   69.5  3.7965    4  307   \n",
      "21    1.25179   0.0   8.14     0  0.538  5.570   98.1  3.7979    4  307   \n",
      "22    0.85204   0.0   8.14     0  0.538  5.965   89.2  4.0123    4  307   \n",
      "23    1.23247   0.0   8.14     0  0.538  6.142   91.7  3.9769    4  307   \n",
      "24    0.98843   0.0   8.14     0  0.538  5.813  100.0  4.0952    4  307   \n",
      "25    0.75026   0.0   8.14     0  0.538  5.924   94.1  4.3996    4  307   \n",
      "26    0.84054   0.0   8.14     0  0.538  5.599   85.7  4.4546    4  307   \n",
      "27    0.67191   0.0   8.14     0  0.538  5.813   90.3  4.6820    4  307   \n",
      "28    0.95577   0.0   8.14     0  0.538  6.047   88.8  4.4534    4  307   \n",
      "29    0.77299   0.0   8.14     0  0.538  6.495   94.4  4.4547    4  307   \n",
      "30    1.00245   0.0   8.14     0  0.538  6.674   87.3  4.2390    4  307   \n",
      "..        ...   ...    ...   ...    ...    ...    ...     ...  ...  ...   \n",
      "477   4.87141   0.0  18.10     0  0.614  6.484   93.6  2.3053   24  666   \n",
      "478  15.02340   0.0  18.10     0  0.614  5.304   97.3  2.1007   24  666   \n",
      "479  10.23300   0.0  18.10     0  0.614  6.185   96.7  2.1705   24  666   \n",
      "480  14.33370   0.0  18.10     0  0.614  6.229   88.0  1.9512   24  666   \n",
      "481   5.82401   0.0  18.10     0  0.532  6.242   64.7  3.4242   24  666   \n",
      "482   5.70818   0.0  18.10     0  0.532  6.750   74.9  3.3317   24  666   \n",
      "483   5.73116   0.0  18.10     0  0.532  7.061   77.0  3.4106   24  666   \n",
      "484   2.81838   0.0  18.10     0  0.532  5.762   40.3  4.0983   24  666   \n",
      "485   2.37857   0.0  18.10     0  0.583  5.871   41.9  3.7240   24  666   \n",
      "486   3.67367   0.0  18.10     0  0.583  6.312   51.9  3.9917   24  666   \n",
      "487   5.69175   0.0  18.10     0  0.583  6.114   79.8  3.5459   24  666   \n",
      "488   4.83567   0.0  18.10     0  0.583  5.905   53.2  3.1523   24  666   \n",
      "489   0.15086   0.0  27.74     0  0.609  5.454   92.7  1.8209    4  711   \n",
      "490   0.18337   0.0  27.74     0  0.609  5.414   98.3  1.7554    4  711   \n",
      "491   0.20746   0.0  27.74     0  0.609  5.093   98.0  1.8226    4  711   \n",
      "492   0.10574   0.0  27.74     0  0.609  5.983   98.8  1.8681    4  711   \n",
      "493   0.11132   0.0  27.74     0  0.609  5.983   83.5  2.1099    4  711   \n",
      "494   0.17331   0.0   9.69     0  0.585  5.707   54.0  2.3817    6  391   \n",
      "495   0.27957   0.0   9.69     0  0.585  5.926   42.6  2.3817    6  391   \n",
      "496   0.17899   0.0   9.69     0  0.585  5.670   28.8  2.7986    6  391   \n",
      "497   0.28960   0.0   9.69     0  0.585  5.390   72.9  2.7986    6  391   \n",
      "498   0.26838   0.0   9.69     0  0.585  5.794   70.6  2.8927    6  391   \n",
      "499   0.23912   0.0   9.69     0  0.585  6.019   65.3  2.4091    6  391   \n",
      "500   0.17783   0.0   9.69     0  0.585  5.569   73.5  2.3999    6  391   \n",
      "501   0.22438   0.0   9.69     0  0.585  6.027   79.7  2.4982    6  391   \n",
      "502   0.06263   0.0  11.93     0  0.573  6.593   69.1  2.4786    1  273   \n",
      "503   0.04527   0.0  11.93     0  0.573  6.120   76.7  2.2875    1  273   \n",
      "504   0.06076   0.0  11.93     0  0.573  6.976   91.0  2.1675    1  273   \n",
      "505   0.10959   0.0  11.93     0  0.573  6.794   89.3  2.3889    1  273   \n",
      "506   0.04741   0.0  11.93     0  0.573  6.030   80.8  2.5050    1  273   \n",
      "\n",
      "     PTRATIO   BLACK  LSTAT  MEDV  CRIM01  \n",
      "1       15.3  396.90   4.98  24.0     0.0  \n",
      "2       17.8  396.90   9.14  21.6     0.0  \n",
      "3       17.8  392.83   4.03  34.7     0.0  \n",
      "4       18.7  394.63   2.94  33.4     0.0  \n",
      "5       18.7  396.90   5.33  36.2     0.0  \n",
      "6       18.7  394.12   5.21  28.7     0.0  \n",
      "7       15.2  395.60  12.43  22.9     0.0  \n",
      "8       15.2  396.90  19.15  27.1     0.0  \n",
      "9       15.2  386.63  29.93  16.5     0.0  \n",
      "10      15.2  386.71  17.10  18.9     0.0  \n",
      "11      15.2  392.52  20.45  15.0     0.0  \n",
      "12      15.2  396.90  13.27  18.9     0.0  \n",
      "13      15.2  390.50  15.71  21.7     1.0  \n",
      "14      21.0  396.90   8.26  20.4     1.0  \n",
      "15      21.0  380.02  10.26  18.2     1.0  \n",
      "16      21.0  395.62   8.47  19.9     1.0  \n",
      "17      21.0  386.85   6.58  23.1     1.0  \n",
      "18      21.0  386.75  14.67  17.5     1.0  \n",
      "19      21.0  288.99  11.69  20.2     1.0  \n",
      "20      21.0  390.95  11.28  18.2     1.0  \n",
      "21      21.0  376.57  21.02  13.6     1.0  \n",
      "22      21.0  392.53  13.83  19.6     1.0  \n",
      "23      21.0  396.90  18.72  15.2     1.0  \n",
      "24      21.0  394.54  19.88  14.5     1.0  \n",
      "25      21.0  394.33  16.30  15.6     1.0  \n",
      "26      21.0  303.42  16.51  13.9     1.0  \n",
      "27      21.0  376.88  14.81  16.6     1.0  \n",
      "28      21.0  306.38  17.28  14.8     1.0  \n",
      "29      21.0  387.94  12.80  18.4     1.0  \n",
      "30      21.0  380.23  11.98  21.0     1.0  \n",
      "..       ...     ...    ...   ...     ...  \n",
      "477     20.2  396.21  18.68  16.7     1.0  \n",
      "478     20.2  349.48  24.91  12.0     1.0  \n",
      "479     20.2  379.70  18.03  14.6     1.0  \n",
      "480     20.2  383.32  13.11  21.4     1.0  \n",
      "481     20.2  396.90  10.74  23.0     1.0  \n",
      "482     20.2  393.07   7.74  23.7     1.0  \n",
      "483     20.2  395.28   7.01  25.0     1.0  \n",
      "484     20.2  392.92  10.42  21.8     1.0  \n",
      "485     20.2  370.73  13.34  20.6     1.0  \n",
      "486     20.2  388.62  10.58  21.2     1.0  \n",
      "487     20.2  392.68  14.98  19.1     1.0  \n",
      "488     20.2  388.22  11.45  20.6     0.0  \n",
      "489     20.1  395.09  18.06  15.2     0.0  \n",
      "490     20.1  344.05  23.97   7.0     0.0  \n",
      "491     20.1  318.43  29.68   8.1     0.0  \n",
      "492     20.1  390.11  18.07  13.6     0.0  \n",
      "493     20.1  396.90  13.35  20.1     0.0  \n",
      "494     19.2  396.90  12.01  21.8     1.0  \n",
      "495     19.2  396.90  13.59  24.5     0.0  \n",
      "496     19.2  393.29  17.60  23.1     1.0  \n",
      "497     19.2  396.90  21.14  19.7     1.0  \n",
      "498     19.2  396.90  14.10  18.3     0.0  \n",
      "499     19.2  396.90  12.92  21.2     0.0  \n",
      "500     19.2  395.77  15.10  17.5     0.0  \n",
      "501     19.2  396.90  14.33  16.8     0.0  \n",
      "502     21.0  391.99   9.67  22.4     0.0  \n",
      "503     21.0  396.90   9.08  20.6     0.0  \n",
      "504     21.0  396.90   5.64  23.9     0.0  \n",
      "505     21.0  393.45   6.48  22.0     0.0  \n",
      "506     21.0  396.90   7.88  11.9     0.0  \n",
      "\n",
      "[506 rows x 15 columns]\n"
     ]
    }
   ],
   "source": [
    "\n",
    "df.loc[:, 'CRIM01'] = df2.loc[:,'CRIM01']\n",
    "df = df.fillna(0)  \n",
    "print(df)"
   ]
  },
  {
   "cell_type": "code",
   "execution_count": 225,
   "metadata": {
    "collapsed": false
   },
   "outputs": [
    {
     "data": {
      "text/html": [
       "<table class=\"simpletable\">\n",
       "<caption>Generalized Linear Model Regression Results</caption>\n",
       "<tr>\n",
       "  <th>Dep. Variable:</th>       <td>CRIM01</td>      <th>  No. Observations:  </th>  <td>   506</td> \n",
       "</tr>\n",
       "<tr>\n",
       "  <th>Model:</th>                 <td>GLM</td>       <th>  Df Residuals:      </th>  <td>   492</td> \n",
       "</tr>\n",
       "<tr>\n",
       "  <th>Model Family:</th>       <td>Binomial</td>     <th>  Df Model:          </th>  <td>    13</td> \n",
       "</tr>\n",
       "<tr>\n",
       "  <th>Link Function:</th>        <td>logit</td>      <th>  Scale:             </th>    <td>1.0</td>  \n",
       "</tr>\n",
       "<tr>\n",
       "  <th>Method:</th>               <td>IRLS</td>       <th>  Log-Likelihood:    </th> <td> -129.97</td>\n",
       "</tr>\n",
       "<tr>\n",
       "  <th>Date:</th>           <td>Wed, 18 Oct 2017</td> <th>  Deviance:          </th> <td>  259.93</td>\n",
       "</tr>\n",
       "<tr>\n",
       "  <th>Time:</th>               <td>15:16:47</td>     <th>  Pearson chi2:      </th>  <td>  546.</td> \n",
       "</tr>\n",
       "<tr>\n",
       "  <th>No. Iterations:</th>        <td>11</td>        <th>                     </th>     <td> </td>   \n",
       "</tr>\n",
       "</table>\n",
       "<table class=\"simpletable\">\n",
       "<tr>\n",
       "      <td></td>         <th>coef</th>     <th>std err</th>      <th>z</th>      <th>P>|z|</th> <th>[95.0% Conf. Int.]</th> \n",
       "</tr>\n",
       "<tr>\n",
       "  <th>Intercept</th> <td>  -25.4463</td> <td>    5.388</td> <td>   -4.723</td> <td> 0.000</td> <td>  -36.007   -14.886</td>\n",
       "</tr>\n",
       "<tr>\n",
       "  <th>ZN</th>        <td>    0.0027</td> <td>    0.014</td> <td>    0.187</td> <td> 0.852</td> <td>   -0.026     0.031</td>\n",
       "</tr>\n",
       "<tr>\n",
       "  <th>INDUS</th>     <td>   -0.0474</td> <td>    0.040</td> <td>   -1.187</td> <td> 0.235</td> <td>   -0.126     0.031</td>\n",
       "</tr>\n",
       "<tr>\n",
       "  <th>CHAS</th>      <td>    1.7229</td> <td>    0.606</td> <td>    2.845</td> <td> 0.004</td> <td>    0.536     2.910</td>\n",
       "</tr>\n",
       "<tr>\n",
       "  <th>NOX</th>       <td>   40.4492</td> <td>    6.337</td> <td>    6.383</td> <td> 0.000</td> <td>   28.030    52.869</td>\n",
       "</tr>\n",
       "<tr>\n",
       "  <th>RM</th>        <td>   -0.8288</td> <td>    0.593</td> <td>   -1.399</td> <td> 0.162</td> <td>   -1.990     0.333</td>\n",
       "</tr>\n",
       "<tr>\n",
       "  <th>AGE</th>       <td>    0.0245</td> <td>    0.011</td> <td>    2.298</td> <td> 0.022</td> <td>    0.004     0.045</td>\n",
       "</tr>\n",
       "<tr>\n",
       "  <th>DIS</th>       <td>    0.4520</td> <td>    0.166</td> <td>    2.721</td> <td> 0.007</td> <td>    0.126     0.778</td>\n",
       "</tr>\n",
       "<tr>\n",
       "  <th>RAD</th>       <td>    0.3374</td> <td>    0.091</td> <td>    3.708</td> <td> 0.000</td> <td>    0.159     0.516</td>\n",
       "</tr>\n",
       "<tr>\n",
       "  <th>TAX</th>       <td>   -0.0056</td> <td>    0.002</td> <td>   -2.328</td> <td> 0.020</td> <td>   -0.010    -0.001</td>\n",
       "</tr>\n",
       "<tr>\n",
       "  <th>PTRATIO</th>   <td>    0.3818</td> <td>    0.106</td> <td>    3.590</td> <td> 0.000</td> <td>    0.173     0.590</td>\n",
       "</tr>\n",
       "<tr>\n",
       "  <th>BLACK</th>     <td>   -0.0108</td> <td>    0.005</td> <td>   -2.031</td> <td> 0.042</td> <td>   -0.021    -0.000</td>\n",
       "</tr>\n",
       "<tr>\n",
       "  <th>LSTAT</th>     <td>   -0.0347</td> <td>    0.045</td> <td>   -0.770</td> <td> 0.442</td> <td>   -0.123     0.054</td>\n",
       "</tr>\n",
       "<tr>\n",
       "  <th>MEDV</th>      <td>    0.1381</td> <td>    0.055</td> <td>    2.533</td> <td> 0.011</td> <td>    0.031     0.245</td>\n",
       "</tr>\n",
       "</table>"
      ],
      "text/plain": [
       "<class 'statsmodels.iolib.summary.Summary'>\n",
       "\"\"\"\n",
       "                 Generalized Linear Model Regression Results                  \n",
       "==============================================================================\n",
       "Dep. Variable:                 CRIM01   No. Observations:                  506\n",
       "Model:                            GLM   Df Residuals:                      492\n",
       "Model Family:                Binomial   Df Model:                           13\n",
       "Link Function:                  logit   Scale:                             1.0\n",
       "Method:                          IRLS   Log-Likelihood:                -129.97\n",
       "Date:                Wed, 18 Oct 2017   Deviance:                       259.93\n",
       "Time:                        15:16:47   Pearson chi2:                     546.\n",
       "No. Iterations:                    11                                         \n",
       "==============================================================================\n",
       "                 coef    std err          z      P>|z|      [95.0% Conf. Int.]\n",
       "------------------------------------------------------------------------------\n",
       "Intercept    -25.4463      5.388     -4.723      0.000       -36.007   -14.886\n",
       "ZN             0.0027      0.014      0.187      0.852        -0.026     0.031\n",
       "INDUS         -0.0474      0.040     -1.187      0.235        -0.126     0.031\n",
       "CHAS           1.7229      0.606      2.845      0.004         0.536     2.910\n",
       "NOX           40.4492      6.337      6.383      0.000        28.030    52.869\n",
       "RM            -0.8288      0.593     -1.399      0.162        -1.990     0.333\n",
       "AGE            0.0245      0.011      2.298      0.022         0.004     0.045\n",
       "DIS            0.4520      0.166      2.721      0.007         0.126     0.778\n",
       "RAD            0.3374      0.091      3.708      0.000         0.159     0.516\n",
       "TAX           -0.0056      0.002     -2.328      0.020        -0.010    -0.001\n",
       "PTRATIO        0.3818      0.106      3.590      0.000         0.173     0.590\n",
       "BLACK         -0.0108      0.005     -2.031      0.042        -0.021    -0.000\n",
       "LSTAT         -0.0347      0.045     -0.770      0.442        -0.123     0.054\n",
       "MEDV           0.1381      0.055      2.533      0.011         0.031     0.245\n",
       "==============================================================================\n",
       "\"\"\""
      ]
     },
     "execution_count": 225,
     "metadata": {},
     "output_type": "execute_result"
    }
   ],
   "source": [
    "formula = 'CRIM01 ~ ZN + INDUS + CHAS + NOX + RM + AGE + DIS + RAD + TAX + PTRATIO + BLACK + LSTAT + MEDV'\n",
    "glm = smf.glm(formula=formula, data=df, family=sm.families.Binomial()).fit()\n",
    "glm.summary()"
   ]
  },
  {
   "cell_type": "code",
   "execution_count": 226,
   "metadata": {
    "collapsed": false
   },
   "outputs": [
    {
     "name": "stdout",
     "output_type": "stream",
     "text": [
      "Intercept   -25.446276\n",
      "ZN            0.002700\n",
      "INDUS        -0.047369\n",
      "CHAS          1.722924\n",
      "NOX          40.449218\n",
      "RM           -0.828758\n",
      "AGE           0.024548\n",
      "DIS           0.451997\n",
      "RAD           0.337416\n",
      "TAX          -0.005563\n",
      "PTRATIO       0.381842\n",
      "BLACK        -0.010793\n",
      "LSTAT        -0.034650\n",
      "MEDV          0.138059\n",
      "dtype: float64\n"
     ]
    }
   ],
   "source": [
    "print(glm.params)"
   ]
  }
 ],
 "metadata": {
  "kernelspec": {
   "display_name": "Python 3",
   "language": "python",
   "name": "python3"
  },
  "language_info": {
   "codemirror_mode": {
    "name": "ipython",
    "version": 3
   },
   "file_extension": ".py",
   "mimetype": "text/x-python",
   "name": "python",
   "nbconvert_exporter": "python",
   "pygments_lexer": "ipython3",
   "version": "3.6.0"
  }
 },
 "nbformat": 4,
 "nbformat_minor": 2
}
