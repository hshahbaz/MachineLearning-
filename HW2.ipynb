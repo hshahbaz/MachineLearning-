{
 "cells": [
  {
   "cell_type": "code",
   "execution_count": 85,
   "metadata": {
    "collapsed": false
   },
   "outputs": [],
   "source": [
    "import numpy as np\n",
    "import pandas as pd\n",
    "import matplotlib.pyplot as plt\n",
    "import statsmodels.formula.api as smf\n",
    "import statsmodels.stats.api as sms\n",
    "import random \n",
    "import scipy.stats as stats\n",
    "import sklearn\n",
    "from sklearn import linear_model, datasets as ds\n",
    "from sklearn.preprocessing import PolynomialFeatures"
   ]
  },
  {
   "cell_type": "code",
   "execution_count": 18,
   "metadata": {
    "collapsed": false
   },
   "outputs": [
    {
     "name": "stdout",
     "output_type": "stream",
     "text": [
      "     Sales  CompPrice  Income  Advertising  Population  Price ShelveLoc  Age  \\\n",
      "1     9.50        138      73           11         276    120       Bad   42   \n",
      "2    11.22        111      48           16         260     83      Good   65   \n",
      "3    10.06        113      35           10         269     80    Medium   59   \n",
      "4     7.40        117     100            4         466     97    Medium   55   \n",
      "5     4.15        141      64            3         340    128       Bad   38   \n",
      "6    10.81        124     113           13         501     72       Bad   78   \n",
      "7     6.63        115     105            0          45    108    Medium   71   \n",
      "8    11.85        136      81           15         425    120      Good   67   \n",
      "9     6.54        132     110            0         108    124    Medium   76   \n",
      "10    4.69        132     113            0         131    124    Medium   76   \n",
      "11    9.01        121      78            9         150    100       Bad   26   \n",
      "12   11.96        117      94            4         503     94      Good   50   \n",
      "13    3.98        122      35            2         393    136    Medium   62   \n",
      "14   10.96        115      28           11          29     86      Good   53   \n",
      "15   11.17        107     117           11         148    118      Good   52   \n",
      "16    8.71        149      95            5         400    144    Medium   76   \n",
      "17    7.58        118      32            0         284    110      Good   63   \n",
      "18   12.29        147      74           13         251    131      Good   52   \n",
      "19   13.91        110     110            0         408     68      Good   46   \n",
      "20    8.73        129      76           16          58    121    Medium   69   \n",
      "21    6.41        125      90            2         367    131    Medium   35   \n",
      "22   12.13        134      29           12         239    109      Good   62   \n",
      "23    5.08        128      46            6         497    138    Medium   42   \n",
      "24    5.87        121      31            0         292    109    Medium   79   \n",
      "25   10.14        145     119           16         294    113       Bad   42   \n",
      "26   14.90        139      32            0         176     82      Good   54   \n",
      "27    8.33        107     115           11         496    131      Good   50   \n",
      "28    5.27         98     118            0          19    107    Medium   64   \n",
      "29    2.99        103      74            0         359     97       Bad   55   \n",
      "30    7.81        104      99           15         226    102       Bad   58   \n",
      "..     ...        ...     ...          ...         ...    ...       ...  ...   \n",
      "371   7.68        126      41           22         403    119       Bad   42   \n",
      "372   9.08        152      81            0         191    126    Medium   54   \n",
      "373   7.80        121      50            0         508     98    Medium   65   \n",
      "374   5.58        137      71            0         402    116    Medium   78   \n",
      "375   9.44        131      47            7          90    118    Medium   47   \n",
      "376   7.90        132      46            4         206    124    Medium   73   \n",
      "377  16.27        141      60           19         319     92      Good   44   \n",
      "378   6.81        132      61            0         263    125    Medium   41   \n",
      "379   6.11        133      88            3         105    119    Medium   79   \n",
      "380   5.81        125     111            0         404    107       Bad   54   \n",
      "381   9.64        106      64           10          17     89    Medium   68   \n",
      "382   3.90        124      65           21         496    151       Bad   77   \n",
      "383   4.95        121      28           19         315    121    Medium   66   \n",
      "384   9.35         98     117            0          76     68    Medium   63   \n",
      "385  12.85        123      37           15         348    112      Good   28   \n",
      "386   5.87        131      73           13         455    132    Medium   62   \n",
      "387   5.32        152     116            0         170    160    Medium   39   \n",
      "388   8.67        142      73           14         238    115    Medium   73   \n",
      "389   8.14        135      89           11         245     78       Bad   79   \n",
      "390   8.44        128      42            8         328    107    Medium   35   \n",
      "391   5.47        108      75            9          61    111    Medium   67   \n",
      "392   6.10        153      63            0          49    124       Bad   56   \n",
      "393   4.53        129      42           13         315    130       Bad   34   \n",
      "394   5.57        109      51           10          26    120    Medium   30   \n",
      "395   5.35        130      58           19         366    139       Bad   33   \n",
      "396  12.57        138     108           17         203    128      Good   33   \n",
      "397   6.14        139      23            3          37    120    Medium   55   \n",
      "398   7.41        162      26           12         368    159    Medium   40   \n",
      "399   5.94        100      79            7         284     95       Bad   50   \n",
      "400   9.71        134      37            0          27    120      Good   49   \n",
      "\n",
      "     Education Urban   US  \n",
      "1           17   Yes  Yes  \n",
      "2           10   Yes  Yes  \n",
      "3           12   Yes  Yes  \n",
      "4           14   Yes  Yes  \n",
      "5           13   Yes   No  \n",
      "6           16    No  Yes  \n",
      "7           15   Yes   No  \n",
      "8           10   Yes  Yes  \n",
      "9           10    No   No  \n",
      "10          17    No  Yes  \n",
      "11          10    No  Yes  \n",
      "12          13   Yes  Yes  \n",
      "13          18   Yes   No  \n",
      "14          18   Yes  Yes  \n",
      "15          18   Yes  Yes  \n",
      "16          18    No   No  \n",
      "17          13   Yes   No  \n",
      "18          10   Yes  Yes  \n",
      "19          17    No  Yes  \n",
      "20          12   Yes  Yes  \n",
      "21          18   Yes  Yes  \n",
      "22          18    No  Yes  \n",
      "23          13   Yes   No  \n",
      "24          10   Yes   No  \n",
      "25          12   Yes  Yes  \n",
      "26          11    No   No  \n",
      "27          11    No  Yes  \n",
      "28          17   Yes   No  \n",
      "29          11   Yes  Yes  \n",
      "30          17   Yes  Yes  \n",
      "..         ...   ...  ...  \n",
      "371         12   Yes  Yes  \n",
      "372         16   Yes   No  \n",
      "373         11    No   No  \n",
      "374         17   Yes   No  \n",
      "375         12   Yes  Yes  \n",
      "376         11   Yes   No  \n",
      "377         11   Yes  Yes  \n",
      "378         12    No   No  \n",
      "379         12   Yes  Yes  \n",
      "380         15   Yes   No  \n",
      "381         17   Yes  Yes  \n",
      "382         13   Yes  Yes  \n",
      "383         14   Yes  Yes  \n",
      "384         10   Yes   No  \n",
      "385         12   Yes  Yes  \n",
      "386         17   Yes  Yes  \n",
      "387         16   Yes   No  \n",
      "388         14    No  Yes  \n",
      "389         16   Yes  Yes  \n",
      "390         12   Yes  Yes  \n",
      "391         12   Yes  Yes  \n",
      "392         16   Yes   No  \n",
      "393         13   Yes  Yes  \n",
      "394         17    No  Yes  \n",
      "395         16   Yes  Yes  \n",
      "396         14   Yes  Yes  \n",
      "397         11    No  Yes  \n",
      "398         18   Yes  Yes  \n",
      "399         12   Yes  Yes  \n",
      "400         16   Yes  Yes  \n",
      "\n",
      "[400 rows x 11 columns]\n"
     ]
    }
   ],
   "source": [
    "with open('E:/UChicago Courses/Autumn Quarter 2017/Machine Learning/Assignments/HW2/Carseats.csv', newline ='') as data:\n",
    "        df = pd.read_csv(data, index_col=0, parse_dates=True)\n",
    "        print(df)"
   ]
  },
  {
   "cell_type": "code",
   "execution_count": 19,
   "metadata": {
    "collapsed": false
   },
   "outputs": [
    {
     "data": {
      "text/plain": [
       "Index(['Sales', 'CompPrice', 'Income', 'Advertising', 'Population', 'Price',\n",
       "       'ShelveLoc', 'Age', 'Education', 'Urban', 'US'],\n",
       "      dtype='object')"
      ]
     },
     "execution_count": 19,
     "metadata": {},
     "output_type": "execute_result"
    }
   ],
   "source": [
    "df.keys()"
   ]
  },
  {
   "cell_type": "code",
   "execution_count": 20,
   "metadata": {
    "collapsed": false
   },
   "outputs": [
    {
     "data": {
      "text/html": [
       "<div>\n",
       "<table border=\"1\" class=\"dataframe\">\n",
       "  <thead>\n",
       "    <tr style=\"text-align: right;\">\n",
       "      <th></th>\n",
       "      <th>Sales</th>\n",
       "      <th>CompPrice</th>\n",
       "      <th>Income</th>\n",
       "      <th>Advertising</th>\n",
       "      <th>Population</th>\n",
       "      <th>Price</th>\n",
       "      <th>ShelveLoc</th>\n",
       "      <th>Age</th>\n",
       "      <th>Education</th>\n",
       "      <th>Urban</th>\n",
       "      <th>US</th>\n",
       "    </tr>\n",
       "  </thead>\n",
       "  <tbody>\n",
       "    <tr>\n",
       "      <th>1</th>\n",
       "      <td>9.50</td>\n",
       "      <td>138</td>\n",
       "      <td>73</td>\n",
       "      <td>11</td>\n",
       "      <td>276</td>\n",
       "      <td>120</td>\n",
       "      <td>Bad</td>\n",
       "      <td>42</td>\n",
       "      <td>17</td>\n",
       "      <td>Yes</td>\n",
       "      <td>Yes</td>\n",
       "    </tr>\n",
       "    <tr>\n",
       "      <th>2</th>\n",
       "      <td>11.22</td>\n",
       "      <td>111</td>\n",
       "      <td>48</td>\n",
       "      <td>16</td>\n",
       "      <td>260</td>\n",
       "      <td>83</td>\n",
       "      <td>Good</td>\n",
       "      <td>65</td>\n",
       "      <td>10</td>\n",
       "      <td>Yes</td>\n",
       "      <td>Yes</td>\n",
       "    </tr>\n",
       "    <tr>\n",
       "      <th>3</th>\n",
       "      <td>10.06</td>\n",
       "      <td>113</td>\n",
       "      <td>35</td>\n",
       "      <td>10</td>\n",
       "      <td>269</td>\n",
       "      <td>80</td>\n",
       "      <td>Medium</td>\n",
       "      <td>59</td>\n",
       "      <td>12</td>\n",
       "      <td>Yes</td>\n",
       "      <td>Yes</td>\n",
       "    </tr>\n",
       "    <tr>\n",
       "      <th>4</th>\n",
       "      <td>7.40</td>\n",
       "      <td>117</td>\n",
       "      <td>100</td>\n",
       "      <td>4</td>\n",
       "      <td>466</td>\n",
       "      <td>97</td>\n",
       "      <td>Medium</td>\n",
       "      <td>55</td>\n",
       "      <td>14</td>\n",
       "      <td>Yes</td>\n",
       "      <td>Yes</td>\n",
       "    </tr>\n",
       "    <tr>\n",
       "      <th>5</th>\n",
       "      <td>4.15</td>\n",
       "      <td>141</td>\n",
       "      <td>64</td>\n",
       "      <td>3</td>\n",
       "      <td>340</td>\n",
       "      <td>128</td>\n",
       "      <td>Bad</td>\n",
       "      <td>38</td>\n",
       "      <td>13</td>\n",
       "      <td>Yes</td>\n",
       "      <td>No</td>\n",
       "    </tr>\n",
       "  </tbody>\n",
       "</table>\n",
       "</div>"
      ],
      "text/plain": [
       "   Sales  CompPrice  Income  Advertising  Population  Price ShelveLoc  Age  \\\n",
       "1   9.50        138      73           11         276    120       Bad   42   \n",
       "2  11.22        111      48           16         260     83      Good   65   \n",
       "3  10.06        113      35           10         269     80    Medium   59   \n",
       "4   7.40        117     100            4         466     97    Medium   55   \n",
       "5   4.15        141      64            3         340    128       Bad   38   \n",
       "\n",
       "   Education Urban   US  \n",
       "1         17   Yes  Yes  \n",
       "2         10   Yes  Yes  \n",
       "3         12   Yes  Yes  \n",
       "4         14   Yes  Yes  \n",
       "5         13   Yes   No  "
      ]
     },
     "execution_count": 20,
     "metadata": {},
     "output_type": "execute_result"
    }
   ],
   "source": [
    "df.head()\n"
   ]
  },
  {
   "cell_type": "code",
   "execution_count": 21,
   "metadata": {
    "collapsed": false
   },
   "outputs": [],
   "source": [
    "#QUESTION 10\n",
    "\n",
    "lm = linear_model.LinearRegression()\n"
   ]
  },
  {
   "cell_type": "code",
   "execution_count": 22,
   "metadata": {
    "collapsed": false
   },
   "outputs": [
    {
     "name": "stdout",
     "output_type": "stream",
     "text": [
      "                            OLS Regression Results                            \n",
      "==============================================================================\n",
      "Dep. Variable:                  Sales   R-squared:                       0.239\n",
      "Model:                            OLS   Adj. R-squared:                  0.234\n",
      "Method:                 Least Squares   F-statistic:                     41.52\n",
      "Date:                Wed, 11 Oct 2017   Prob (F-statistic):           2.39e-23\n",
      "Time:                        14:05:49   Log-Likelihood:                -927.66\n",
      "No. Observations:                 400   AIC:                             1863.\n",
      "Df Residuals:                     396   BIC:                             1879.\n",
      "Df Model:                           3                                         \n",
      "Covariance Type:            nonrobust                                         \n",
      "================================================================================\n",
      "                   coef    std err          t      P>|t|      [95.0% Conf. Int.]\n",
      "--------------------------------------------------------------------------------\n",
      "Intercept       13.0435      0.651     20.036      0.000        11.764    14.323\n",
      "Urban[T.Yes]    -0.0219      0.272     -0.081      0.936        -0.556     0.512\n",
      "US[T.Yes]        1.2006      0.259      4.635      0.000         0.691     1.710\n",
      "Price           -0.0545      0.005    -10.389      0.000        -0.065    -0.044\n",
      "==============================================================================\n",
      "Omnibus:                        0.676   Durbin-Watson:                   1.912\n",
      "Prob(Omnibus):                  0.713   Jarque-Bera (JB):                0.758\n",
      "Skew:                           0.093   Prob(JB):                        0.684\n",
      "Kurtosis:                       2.897   Cond. No.                         628.\n",
      "==============================================================================\n",
      "\n",
      "Warnings:\n",
      "[1] Standard Errors assume that the covariance matrix of the errors is correctly specified.\n"
     ]
    }
   ],
   "source": [
    "model = smf.ols(formula='Sales ~ Price + Urban + US', data = df)\n",
    "results = model.fit()\n",
    "print(results.summary())"
   ]
  },
  {
   "cell_type": "code",
   "execution_count": 23,
   "metadata": {
    "collapsed": false
   },
   "outputs": [],
   "source": [
    "#b)Provide an interpretation of each coefficient in the model. Be careful—some of the variables in the model are qualitative!\n",
    "\n",
    "#ANSWER:\n",
    "\n",
    "#1. When price increases by $1 and other predictors are held constant, sales decreases by 54.5 unit sales. \n",
    "#2. A store’s sale is not affected by whether or not it is in a Urban area. The coefficient is not significant \n",
    "#3. A store in the US sales 1200 more carseats on average than a store that is not based in US. This is a significant coefficient."
   ]
  },
  {
   "cell_type": "code",
   "execution_count": 24,
   "metadata": {
    "collapsed": true
   },
   "outputs": [],
   "source": [
    "#(c) Write out the model in equation form, being careful to handlethe qualitative variables properly.\n",
    "\n",
    "#ANSWER:\n",
    "\n",
    "#The model may be written as:\n",
    "# Sales = 13.0435 + (−0.0545)×Price + (−0.0219)×Urban + (1.2006)×US + error, where Urban = 1, if the store is in an \n",
    "#urban location and 0 if not. Similarly US = 1, if the store is in US and 0 if not."
   ]
  },
  {
   "cell_type": "code",
   "execution_count": 25,
   "metadata": {
    "collapsed": true
   },
   "outputs": [],
   "source": [
    "#(d) For which of the predictors can you reject the null hypothesis H0 : Bj = 0?\n",
    "\n",
    "#ANSWER: The coefficent Urban because it is statistically insignificant with p-value of 0.936"
   ]
  },
  {
   "cell_type": "code",
   "execution_count": 26,
   "metadata": {
    "collapsed": false
   },
   "outputs": [
    {
     "name": "stdout",
     "output_type": "stream",
     "text": [
      "                            OLS Regression Results                            \n",
      "==============================================================================\n",
      "Dep. Variable:                  Sales   R-squared:                       0.239\n",
      "Model:                            OLS   Adj. R-squared:                  0.235\n",
      "Method:                 Least Squares   F-statistic:                     62.43\n",
      "Date:                Wed, 11 Oct 2017   Prob (F-statistic):           2.66e-24\n",
      "Time:                        14:05:50   Log-Likelihood:                -927.66\n",
      "No. Observations:                 400   AIC:                             1861.\n",
      "Df Residuals:                     397   BIC:                             1873.\n",
      "Df Model:                           2                                         \n",
      "Covariance Type:            nonrobust                                         \n",
      "==============================================================================\n",
      "                 coef    std err          t      P>|t|      [95.0% Conf. Int.]\n",
      "------------------------------------------------------------------------------\n",
      "Intercept     13.0308      0.631     20.652      0.000        11.790    14.271\n",
      "US[T.Yes]      1.1996      0.258      4.641      0.000         0.692     1.708\n",
      "Price         -0.0545      0.005    -10.416      0.000        -0.065    -0.044\n",
      "==============================================================================\n",
      "Omnibus:                        0.666   Durbin-Watson:                   1.912\n",
      "Prob(Omnibus):                  0.717   Jarque-Bera (JB):                0.749\n",
      "Skew:                           0.092   Prob(JB):                        0.688\n",
      "Kurtosis:                       2.895   Cond. No.                         607.\n",
      "==============================================================================\n",
      "\n",
      "Warnings:\n",
      "[1] Standard Errors assume that the covariance matrix of the errors is correctly specified.\n"
     ]
    }
   ],
   "source": [
    "#(e) On the basis of your response to the previous question, fit a smaller model that only uses the predictors for which there is\n",
    "# evidence of association with the outcome.\n",
    "\n",
    "#ANSWER:\n",
    "\n",
    "model.small = smf.ols(formula='Sales ~ Price + US', data = df)\n",
    "result = model.small.fit()\n",
    "print(result.summary())"
   ]
  },
  {
   "cell_type": "code",
   "execution_count": 27,
   "metadata": {
    "collapsed": true
   },
   "outputs": [],
   "source": [
    "#(f) How well do the models in (a) and (e) fit the data?\n",
    "\n",
    "#ANSWER:\n",
    "\n",
    "#Both models have a low R-squared value of R-squared:0.239. The F-statistics increases for model with Urban coefficient removed \n",
    "#compared to the one that has it. Both models have a mediocre fit at best. "
   ]
  },
  {
   "cell_type": "code",
   "execution_count": 28,
   "metadata": {
    "collapsed": false,
    "scrolled": true
   },
   "outputs": [
    {
     "name": "stdout",
     "output_type": "stream",
     "text": [
      "                            OLS Regression Results                            \n",
      "==============================================================================\n",
      "Dep. Variable:                  Sales   R-squared:                       0.239\n",
      "Model:                            OLS   Adj. R-squared:                  0.235\n",
      "Method:                 Least Squares   F-statistic:                     62.43\n",
      "Date:                Wed, 11 Oct 2017   Prob (F-statistic):           2.66e-24\n",
      "Time:                        14:05:51   Log-Likelihood:                -927.66\n",
      "No. Observations:                 400   AIC:                             1861.\n",
      "Df Residuals:                     397   BIC:                             1873.\n",
      "Df Model:                           2                                         \n",
      "Covariance Type:            nonrobust                                         \n",
      "==============================================================================\n",
      "                 coef    std err          t      P>|t|      [95.0% Conf. Int.]\n",
      "------------------------------------------------------------------------------\n",
      "Intercept     13.0308      0.631     20.652      0.000        11.790    14.271\n",
      "US[T.Yes]      1.1996      0.258      4.641      0.000         0.692     1.708\n",
      "Price         -0.0545      0.005    -10.416      0.000        -0.065    -0.044\n",
      "==============================================================================\n",
      "Omnibus:                        0.666   Durbin-Watson:                   1.912\n",
      "Prob(Omnibus):                  0.717   Jarque-Bera (JB):                0.749\n",
      "Skew:                           0.092   Prob(JB):                        0.688\n",
      "Kurtosis:                       2.895   Cond. No.                         607.\n",
      "==============================================================================\n",
      "\n",
      "Warnings:\n",
      "[1] Standard Errors assume that the covariance matrix of the errors is correctly specified.\n"
     ]
    }
   ],
   "source": [
    "#g) Using the model from (e), obtain 95% confidence intervals for the coefficient(s)\n",
    "\n",
    "#ANSWER:\n",
    "print(result.summary())\n",
    "\n",
    "#95% interval contained in the table below."
   ]
  },
  {
   "cell_type": "code",
   "execution_count": 29,
   "metadata": {
    "collapsed": false
   },
   "outputs": [],
   "source": [
    "#(h) Is there evidence of outliers or high leverage observations in the model from (e)?\n",
    "\n",
    "#ANSWER:\n",
    "\n",
    "#There are none "
   ]
  },
  {
   "cell_type": "code",
   "execution_count": 30,
   "metadata": {
    "collapsed": false
   },
   "outputs": [],
   "source": [
    "#############################QUESTION 14 #################################################################\n",
    "\n",
    "#A)  \n",
    "random.seed(1)\n",
    "#for x1 in range(100):\n",
    " #  random.random()\n",
    "x1 = np.random.rand(100,) # Generates a 10 x 10 array of uniform random numbers.\n",
    "x2 = 0.5* x1+ np.random.standard_normal((100)) /10\n",
    "y = 2+2* x1 +0.3* x2+np.random.standard_normal((100))\n",
    "\n",
    "#Regression Equation: Y=2 + 2x1 + 0.3x2 + error\n",
    "#Regression Coefficients: 2, 2, 0.3                                        \n",
    "                   "
   ]
  },
  {
   "cell_type": "code",
   "execution_count": 31,
   "metadata": {
    "collapsed": false
   },
   "outputs": [
    {
     "data": {
      "image/png": "[encoded data removed]",
      "text/plain": [
       "<matplotlib.figure.Figure at 0x210371eae48>"
      ]
     },
     "metadata": {},
     "output_type": "display_data"
    }
   ],
   "source": [
    "#B) \n",
    "\n",
    "np.corrcoef(x1,x2) \n",
    "plt.scatter(x1,x2)\n",
    "plt.show()"
   ]
  },
  {
   "cell_type": "code",
   "execution_count": 32,
   "metadata": {
    "collapsed": false
   },
   "outputs": [
    {
     "name": "stdout",
     "output_type": "stream",
     "text": [
      "                            OLS Regression Results                            \n",
      "==============================================================================\n",
      "Dep. Variable:                      y   R-squared:                       0.367\n",
      "Model:                            OLS   Adj. R-squared:                  0.354\n",
      "Method:                 Least Squares   F-statistic:                     28.09\n",
      "Date:                Wed, 11 Oct 2017   Prob (F-statistic):           2.37e-10\n",
      "Time:                        14:05:59   Log-Likelihood:                -132.78\n",
      "No. Observations:                 100   AIC:                             271.6\n",
      "Df Residuals:                      97   BIC:                             279.4\n",
      "Df Model:                           2                                         \n",
      "Covariance Type:            nonrobust                                         \n",
      "==============================================================================\n",
      "                 coef    std err          t      P>|t|      [95.0% Conf. Int.]\n",
      "------------------------------------------------------------------------------\n",
      "Intercept      1.8942      0.166     11.439      0.000         1.566     2.223\n",
      "x1             2.4782      0.486      5.099      0.000         1.514     3.443\n",
      "x2            -0.7083      0.864     -0.819      0.415        -2.424     1.007\n",
      "==============================================================================\n",
      "Omnibus:                        0.057   Durbin-Watson:                   2.015\n",
      "Prob(Omnibus):                  0.972   Jarque-Bera (JB):                0.172\n",
      "Skew:                          -0.050   Prob(JB):                        0.917\n",
      "Kurtosis:                       2.823   Cond. No.                         11.8\n",
      "==============================================================================\n",
      "\n",
      "Warnings:\n",
      "[1] Standard Errors assume that the covariance matrix of the errors is correctly specified.\n"
     ]
    }
   ],
   "source": [
    "#C)\n",
    "df1 = pd.DataFrame(x1,x2)\n",
    "lm = smf.ols(formula='y ~ x1 + x2', data = df1)\n",
    "result = lm.fit()\n",
    "print(result.summary())\n",
    "\n"
   ]
  },
  {
   "cell_type": "code",
   "execution_count": 33,
   "metadata": {
    "collapsed": false
   },
   "outputs": [],
   "source": [
    "#C)\n",
    "\n",
    "#The coefficients are B^0 = 1.9295 , B^1 = 1.5067 and B^2 = 0.9573. Only B^0 is close to B0. \n",
    "#As the p-value is less than 0.05 we may reject H0 for B1, however we can not reject H0 for B2 as the p-value is \n",
    "#0.405 which is higher than 0.05."
   ]
  },
  {
   "cell_type": "code",
   "execution_count": 34,
   "metadata": {
    "collapsed": false
   },
   "outputs": [
    {
     "name": "stdout",
     "output_type": "stream",
     "text": [
      "                            OLS Regression Results                            \n",
      "==============================================================================\n",
      "Dep. Variable:                      y   R-squared:                       0.362\n",
      "Model:                            OLS   Adj. R-squared:                  0.356\n",
      "Method:                 Least Squares   F-statistic:                     55.70\n",
      "Date:                Wed, 11 Oct 2017   Prob (F-statistic):           3.48e-11\n",
      "Time:                        14:06:03   Log-Likelihood:                -133.12\n",
      "No. Observations:                 100   AIC:                             270.2\n",
      "Df Residuals:                      98   BIC:                             275.5\n",
      "Df Model:                           1                                         \n",
      "Covariance Type:            nonrobust                                         \n",
      "==============================================================================\n",
      "                 coef    std err          t      P>|t|      [95.0% Conf. Int.]\n",
      "------------------------------------------------------------------------------\n",
      "Intercept      1.8906      0.165     11.441      0.000         1.563     2.219\n",
      "x1             2.1584      0.289      7.463      0.000         1.584     2.732\n",
      "==============================================================================\n",
      "Omnibus:                        0.029   Durbin-Watson:                   1.984\n",
      "Prob(Omnibus):                  0.986   Jarque-Bera (JB):                0.076\n",
      "Skew:                          -0.037   Prob(JB):                        0.963\n",
      "Kurtosis:                       2.887   Cond. No.                         3.89\n",
      "==============================================================================\n",
      "\n",
      "Warnings:\n",
      "[1] Standard Errors assume that the covariance matrix of the errors is correctly specified.\n"
     ]
    }
   ],
   "source": [
    "#D)\n",
    "lm1 = smf.ols(formula='y ~ x1', data = df1)\n",
    "result = lm1.fit()\n",
    "print(result.summary())\n"
   ]
  },
  {
   "cell_type": "code",
   "execution_count": 35,
   "metadata": {
    "collapsed": true
   },
   "outputs": [],
   "source": [
    "#The coefficient for x1 in this model is very different from the model with x1 and x2 as predictors. \n",
    "#In this case x1 is highly significant as its p-value is very low. In this case we can reject the null hypothesis."
   ]
  },
  {
   "cell_type": "code",
   "execution_count": 36,
   "metadata": {
    "collapsed": false,
    "scrolled": true
   },
   "outputs": [
    {
     "name": "stdout",
     "output_type": "stream",
     "text": [
      "                            OLS Regression Results                            \n",
      "==============================================================================\n",
      "Dep. Variable:                      y   R-squared:                       0.197\n",
      "Model:                            OLS   Adj. R-squared:                  0.189\n",
      "Method:                 Least Squares   F-statistic:                     24.05\n",
      "Date:                Wed, 11 Oct 2017   Prob (F-statistic):           3.72e-06\n",
      "Time:                        14:06:07   Log-Likelihood:                -144.65\n",
      "No. Observations:                 100   AIC:                             293.3\n",
      "Df Residuals:                      98   BIC:                             298.5\n",
      "Df Model:                           1                                         \n",
      "Covariance Type:            nonrobust                                         \n",
      "==============================================================================\n",
      "                 coef    std err          t      P>|t|      [95.0% Conf. Int.]\n",
      "------------------------------------------------------------------------------\n",
      "Intercept      2.2930      0.164     14.023      0.000         1.968     2.617\n",
      "x2             2.8305      0.577      4.904      0.000         1.685     3.976\n",
      "==============================================================================\n",
      "Omnibus:                        0.227   Durbin-Watson:                   1.873\n",
      "Prob(Omnibus):                  0.893   Jarque-Bera (JB):                0.404\n",
      "Skew:                          -0.058   Prob(JB):                        0.817\n",
      "Kurtosis:                       2.711   Cond. No.                         5.83\n",
      "==============================================================================\n",
      "\n",
      "Warnings:\n",
      "[1] Standard Errors assume that the covariance matrix of the errors is correctly specified.\n"
     ]
    }
   ],
   "source": [
    "#E)\n",
    "lm2 = smf.ols(formula='y ~ x2', data = df1)\n",
    "result = lm2.fit()\n",
    "print(result.summary())"
   ]
  },
  {
   "cell_type": "code",
   "execution_count": 37,
   "metadata": {
    "collapsed": true
   },
   "outputs": [],
   "source": [
    "#The coefficient for x2 in this model is very different from the model with x1 and x2 as predictors. \n",
    "#In this case x2 is highly significant as its p-value is very low. In this case we can reject the  null hypothesis."
   ]
  },
  {
   "cell_type": "code",
   "execution_count": 38,
   "metadata": {
    "collapsed": true
   },
   "outputs": [],
   "source": [
    "#F)\n",
    "\n",
    "#The results do not contradict each other. The predictors “x1” and “x2” are highly correlated which makes it\n",
    "#difficult to determine how each predictor separately is affecting the response. \n",
    "#The collinearity causes the errors to grow in model with x1 and x2 as predictors whereas it is low for both the predictors\n",
    "#where they are used individually. "
   ]
  },
  {
   "cell_type": "code",
   "execution_count": 39,
   "metadata": {
    "collapsed": false
   },
   "outputs": [],
   "source": [
    "#G)\n",
    "\n",
    "x1 = np.append([x1],[0.1])\n",
    "len(x1)\n",
    "x2 = np.append([x2],[0.1])\n",
    "len(x2)\n",
    "y= np.append([y],[6])"
   ]
  },
  {
   "cell_type": "code",
   "execution_count": 40,
   "metadata": {
    "collapsed": false
   },
   "outputs": [
    {
     "name": "stdout",
     "output_type": "stream",
     "text": [
      "                            OLS Regression Results                            \n",
      "==============================================================================\n",
      "Dep. Variable:                      y   R-squared:                       0.302\n",
      "Model:                            OLS   Adj. R-squared:                  0.288\n",
      "Method:                 Least Squares   F-statistic:                     21.25\n",
      "Date:                Wed, 11 Oct 2017   Prob (F-statistic):           2.16e-08\n",
      "Time:                        14:06:15   Log-Likelihood:                -141.99\n",
      "No. Observations:                 101   AIC:                             290.0\n",
      "Df Residuals:                      98   BIC:                             297.8\n",
      "Df Model:                           2                                         \n",
      "Covariance Type:            nonrobust                                         \n",
      "==============================================================================\n",
      "                 coef    std err          t      P>|t|      [95.0% Conf. Int.]\n",
      "------------------------------------------------------------------------------\n",
      "Intercept      1.9978      0.177     11.288      0.000         1.647     2.349\n",
      "x1             2.2637      0.522      4.333      0.000         1.227     3.301\n",
      "x2            -0.5426      0.933     -0.581      0.562        -2.395     1.310\n",
      "==============================================================================\n",
      "Omnibus:                        8.534   Durbin-Watson:                   1.841\n",
      "Prob(Omnibus):                  0.014   Jarque-Bera (JB):               10.245\n",
      "Skew:                           0.457   Prob(JB):                      0.00596\n",
      "Kurtosis:                       4.264   Cond. No.                         11.8\n",
      "==============================================================================\n",
      "\n",
      "Warnings:\n",
      "[1] Standard Errors assume that the covariance matrix of the errors is correctly specified.\n"
     ]
    }
   ],
   "source": [
    "df2 = pd.DataFrame(x1,x2)\n",
    "lm1_new = smf.ols(formula='y ~ x1 + x2', data = df2)\n",
    "result = lm1_new.fit()\n",
    "print(result.summary())\n"
   ]
  },
  {
   "cell_type": "code",
   "execution_count": 41,
   "metadata": {
    "collapsed": false,
    "scrolled": true
   },
   "outputs": [
    {
     "name": "stdout",
     "output_type": "stream",
     "text": [
      "                            OLS Regression Results                            \n",
      "==============================================================================\n",
      "Dep. Variable:                      y   R-squared:                       0.300\n",
      "Model:                            OLS   Adj. R-squared:                  0.293\n",
      "Method:                 Least Squares   F-statistic:                     42.44\n",
      "Date:                Wed, 11 Oct 2017   Prob (F-statistic):           3.06e-09\n",
      "Time:                        14:06:26   Log-Likelihood:                -142.16\n",
      "No. Observations:                 101   AIC:                             288.3\n",
      "Df Residuals:                      99   BIC:                             293.5\n",
      "Df Model:                           1                                         \n",
      "Covariance Type:            nonrobust                                         \n",
      "==============================================================================\n",
      "                 coef    std err          t      P>|t|      [95.0% Conf. Int.]\n",
      "------------------------------------------------------------------------------\n",
      "Intercept      1.9943      0.176     11.312      0.000         1.645     2.344\n",
      "x1             2.0196      0.310      6.515      0.000         1.405     2.635\n",
      "==============================================================================\n",
      "Omnibus:                        8.260   Durbin-Watson:                   1.827\n",
      "Prob(Omnibus):                  0.016   Jarque-Bera (JB):                9.792\n",
      "Skew:                           0.448   Prob(JB):                      0.00748\n",
      "Kurtosis:                       4.235   Cond. No.                         3.87\n",
      "==============================================================================\n",
      "\n",
      "Warnings:\n",
      "[1] Standard Errors assume that the covariance matrix of the errors is correctly specified.\n"
     ]
    }
   ],
   "source": [
    "lm2_new = smf.ols(formula='y ~ x1', data = df2)\n",
    "result = lm2_new.fit()\n",
    "print(result.summary())"
   ]
  },
  {
   "cell_type": "code",
   "execution_count": 42,
   "metadata": {
    "collapsed": false
   },
   "outputs": [
    {
     "name": "stdout",
     "output_type": "stream",
     "text": [
      "                            OLS Regression Results                            \n",
      "==============================================================================\n",
      "Dep. Variable:                      y   R-squared:                       0.169\n",
      "Model:                            OLS   Adj. R-squared:                  0.160\n",
      "Method:                 Least Squares   F-statistic:                     20.11\n",
      "Date:                Wed, 11 Oct 2017   Prob (F-statistic):           1.97e-05\n",
      "Time:                        14:06:28   Log-Likelihood:                -150.84\n",
      "No. Observations:                 101   AIC:                             305.7\n",
      "Df Residuals:                      99   BIC:                             310.9\n",
      "Df Model:                           1                                         \n",
      "Covariance Type:            nonrobust                                         \n",
      "==============================================================================\n",
      "                 coef    std err          t      P>|t|      [95.0% Conf. Int.]\n",
      "------------------------------------------------------------------------------\n",
      "Intercept      2.3538      0.170     13.826      0.000         2.016     2.692\n",
      "x2             2.7066      0.604      4.485      0.000         1.509     3.904\n",
      "==============================================================================\n",
      "Omnibus:                        1.061   Durbin-Watson:                   1.779\n",
      "Prob(Omnibus):                  0.588   Jarque-Bera (JB):                0.663\n",
      "Skew:                           0.178   Prob(JB):                        0.718\n",
      "Kurtosis:                       3.174   Cond. No.                         5.85\n",
      "==============================================================================\n",
      "\n",
      "Warnings:\n",
      "[1] Standard Errors assume that the covariance matrix of the errors is correctly specified.\n"
     ]
    }
   ],
   "source": [
    "lm3_new = smf.ols(formula='y ~ x2', data = df2)\n",
    "result = lm3_new.fit()\n",
    "print(result.summary())"
   ]
  },
  {
   "cell_type": "code",
   "execution_count": 43,
   "metadata": {
    "collapsed": false
   },
   "outputs": [],
   "source": [
    "#In the model with two predictors, the last point is a high-leverage point. \n",
    "#In the model with x1 as predictor the last point is an outlier. \n",
    "#In the model with x2 as predictor the last point is a high point."
   ]
  },
  {
   "cell_type": "code",
   "execution_count": 44,
   "metadata": {
    "collapsed": true
   },
   "outputs": [],
   "source": [
    "######################################QUESTION 15###############################################################3"
   ]
  },
  {
   "cell_type": "code",
   "execution_count": 45,
   "metadata": {
    "collapsed": false
   },
   "outputs": [
    {
     "name": "stdout",
     "output_type": "stream",
     "text": [
      "         CRIM    ZN  INDUS  CHAS    NOX     RM    AGE     DIS  RAD  TAX  \\\n",
      "1     0.00632  18.0   2.31     0  0.538  6.575   65.2  4.0900    1  296   \n",
      "2     0.02731   0.0   7.07     0  0.469  6.421   78.9  4.9671    2  242   \n",
      "3     0.02729   0.0   7.07     0  0.469  7.185   61.1  4.9671    2  242   \n",
      "4     0.03237   0.0   2.18     0  0.458  6.998   45.8  6.0622    3  222   \n",
      "5     0.06905   0.0   2.18     0  0.458  7.147   54.2  6.0622    3  222   \n",
      "6     0.02985   0.0   2.18     0  0.458  6.430   58.7  6.0622    3  222   \n",
      "7     0.08829  12.5   7.87     0  0.524  6.012   66.6  5.5605    5  311   \n",
      "8     0.14455  12.5   7.87     0  0.524  6.172   96.1  5.9505    5  311   \n",
      "9     0.21124  12.5   7.87     0  0.524  5.631  100.0  6.0821    5  311   \n",
      "10    0.17004  12.5   7.87     0  0.524  6.004   85.9  6.5921    5  311   \n",
      "11    0.22489  12.5   7.87     0  0.524  6.377   94.3  6.3467    5  311   \n",
      "12    0.11747  12.5   7.87     0  0.524  6.009   82.9  6.2267    5  311   \n",
      "13    0.09378  12.5   7.87     0  0.524  5.889   39.0  5.4509    5  311   \n",
      "14    0.62976   0.0   8.14     0  0.538  5.949   61.8  4.7075    4  307   \n",
      "15    0.63796   0.0   8.14     0  0.538  6.096   84.5  4.4619    4  307   \n",
      "16    0.62739   0.0   8.14     0  0.538  5.834   56.5  4.4986    4  307   \n",
      "17    1.05393   0.0   8.14     0  0.538  5.935   29.3  4.4986    4  307   \n",
      "18    0.78420   0.0   8.14     0  0.538  5.990   81.7  4.2579    4  307   \n",
      "19    0.80271   0.0   8.14     0  0.538  5.456   36.6  3.7965    4  307   \n",
      "20    0.72580   0.0   8.14     0  0.538  5.727   69.5  3.7965    4  307   \n",
      "21    1.25179   0.0   8.14     0  0.538  5.570   98.1  3.7979    4  307   \n",
      "22    0.85204   0.0   8.14     0  0.538  5.965   89.2  4.0123    4  307   \n",
      "23    1.23247   0.0   8.14     0  0.538  6.142   91.7  3.9769    4  307   \n",
      "24    0.98843   0.0   8.14     0  0.538  5.813  100.0  4.0952    4  307   \n",
      "25    0.75026   0.0   8.14     0  0.538  5.924   94.1  4.3996    4  307   \n",
      "26    0.84054   0.0   8.14     0  0.538  5.599   85.7  4.4546    4  307   \n",
      "27    0.67191   0.0   8.14     0  0.538  5.813   90.3  4.6820    4  307   \n",
      "28    0.95577   0.0   8.14     0  0.538  6.047   88.8  4.4534    4  307   \n",
      "29    0.77299   0.0   8.14     0  0.538  6.495   94.4  4.4547    4  307   \n",
      "30    1.00245   0.0   8.14     0  0.538  6.674   87.3  4.2390    4  307   \n",
      "..        ...   ...    ...   ...    ...    ...    ...     ...  ...  ...   \n",
      "477   4.87141   0.0  18.10     0  0.614  6.484   93.6  2.3053   24  666   \n",
      "478  15.02340   0.0  18.10     0  0.614  5.304   97.3  2.1007   24  666   \n",
      "479  10.23300   0.0  18.10     0  0.614  6.185   96.7  2.1705   24  666   \n",
      "480  14.33370   0.0  18.10     0  0.614  6.229   88.0  1.9512   24  666   \n",
      "481   5.82401   0.0  18.10     0  0.532  6.242   64.7  3.4242   24  666   \n",
      "482   5.70818   0.0  18.10     0  0.532  6.750   74.9  3.3317   24  666   \n",
      "483   5.73116   0.0  18.10     0  0.532  7.061   77.0  3.4106   24  666   \n",
      "484   2.81838   0.0  18.10     0  0.532  5.762   40.3  4.0983   24  666   \n",
      "485   2.37857   0.0  18.10     0  0.583  5.871   41.9  3.7240   24  666   \n",
      "486   3.67367   0.0  18.10     0  0.583  6.312   51.9  3.9917   24  666   \n",
      "487   5.69175   0.0  18.10     0  0.583  6.114   79.8  3.5459   24  666   \n",
      "488   4.83567   0.0  18.10     0  0.583  5.905   53.2  3.1523   24  666   \n",
      "489   0.15086   0.0  27.74     0  0.609  5.454   92.7  1.8209    4  711   \n",
      "490   0.18337   0.0  27.74     0  0.609  5.414   98.3  1.7554    4  711   \n",
      "491   0.20746   0.0  27.74     0  0.609  5.093   98.0  1.8226    4  711   \n",
      "492   0.10574   0.0  27.74     0  0.609  5.983   98.8  1.8681    4  711   \n",
      "493   0.11132   0.0  27.74     0  0.609  5.983   83.5  2.1099    4  711   \n",
      "494   0.17331   0.0   9.69     0  0.585  5.707   54.0  2.3817    6  391   \n",
      "495   0.27957   0.0   9.69     0  0.585  5.926   42.6  2.3817    6  391   \n",
      "496   0.17899   0.0   9.69     0  0.585  5.670   28.8  2.7986    6  391   \n",
      "497   0.28960   0.0   9.69     0  0.585  5.390   72.9  2.7986    6  391   \n",
      "498   0.26838   0.0   9.69     0  0.585  5.794   70.6  2.8927    6  391   \n",
      "499   0.23912   0.0   9.69     0  0.585  6.019   65.3  2.4091    6  391   \n",
      "500   0.17783   0.0   9.69     0  0.585  5.569   73.5  2.3999    6  391   \n",
      "501   0.22438   0.0   9.69     0  0.585  6.027   79.7  2.4982    6  391   \n",
      "502   0.06263   0.0  11.93     0  0.573  6.593   69.1  2.4786    1  273   \n",
      "503   0.04527   0.0  11.93     0  0.573  6.120   76.7  2.2875    1  273   \n",
      "504   0.06076   0.0  11.93     0  0.573  6.976   91.0  2.1675    1  273   \n",
      "505   0.10959   0.0  11.93     0  0.573  6.794   89.3  2.3889    1  273   \n",
      "506   0.04741   0.0  11.93     0  0.573  6.030   80.8  2.5050    1  273   \n",
      "\n",
      "     PTRATIO   BLACK  LSTAT  MEDV  \n",
      "1       15.3  396.90   4.98  24.0  \n",
      "2       17.8  396.90   9.14  21.6  \n",
      "3       17.8  392.83   4.03  34.7  \n",
      "4       18.7  394.63   2.94  33.4  \n",
      "5       18.7  396.90   5.33  36.2  \n",
      "6       18.7  394.12   5.21  28.7  \n",
      "7       15.2  395.60  12.43  22.9  \n",
      "8       15.2  396.90  19.15  27.1  \n",
      "9       15.2  386.63  29.93  16.5  \n",
      "10      15.2  386.71  17.10  18.9  \n",
      "11      15.2  392.52  20.45  15.0  \n",
      "12      15.2  396.90  13.27  18.9  \n",
      "13      15.2  390.50  15.71  21.7  \n",
      "14      21.0  396.90   8.26  20.4  \n",
      "15      21.0  380.02  10.26  18.2  \n",
      "16      21.0  395.62   8.47  19.9  \n",
      "17      21.0  386.85   6.58  23.1  \n",
      "18      21.0  386.75  14.67  17.5  \n",
      "19      21.0  288.99  11.69  20.2  \n",
      "20      21.0  390.95  11.28  18.2  \n",
      "21      21.0  376.57  21.02  13.6  \n",
      "22      21.0  392.53  13.83  19.6  \n",
      "23      21.0  396.90  18.72  15.2  \n",
      "24      21.0  394.54  19.88  14.5  \n",
      "25      21.0  394.33  16.30  15.6  \n",
      "26      21.0  303.42  16.51  13.9  \n",
      "27      21.0  376.88  14.81  16.6  \n",
      "28      21.0  306.38  17.28  14.8  \n",
      "29      21.0  387.94  12.80  18.4  \n",
      "30      21.0  380.23  11.98  21.0  \n",
      "..       ...     ...    ...   ...  \n",
      "477     20.2  396.21  18.68  16.7  \n",
      "478     20.2  349.48  24.91  12.0  \n",
      "479     20.2  379.70  18.03  14.6  \n",
      "480     20.2  383.32  13.11  21.4  \n",
      "481     20.2  396.90  10.74  23.0  \n",
      "482     20.2  393.07   7.74  23.7  \n",
      "483     20.2  395.28   7.01  25.0  \n",
      "484     20.2  392.92  10.42  21.8  \n",
      "485     20.2  370.73  13.34  20.6  \n",
      "486     20.2  388.62  10.58  21.2  \n",
      "487     20.2  392.68  14.98  19.1  \n",
      "488     20.2  388.22  11.45  20.6  \n",
      "489     20.1  395.09  18.06  15.2  \n",
      "490     20.1  344.05  23.97   7.0  \n",
      "491     20.1  318.43  29.68   8.1  \n",
      "492     20.1  390.11  18.07  13.6  \n",
      "493     20.1  396.90  13.35  20.1  \n",
      "494     19.2  396.90  12.01  21.8  \n",
      "495     19.2  396.90  13.59  24.5  \n",
      "496     19.2  393.29  17.60  23.1  \n",
      "497     19.2  396.90  21.14  19.7  \n",
      "498     19.2  396.90  14.10  18.3  \n",
      "499     19.2  396.90  12.92  21.2  \n",
      "500     19.2  395.77  15.10  17.5  \n",
      "501     19.2  396.90  14.33  16.8  \n",
      "502     21.0  391.99   9.67  22.4  \n",
      "503     21.0  396.90   9.08  20.6  \n",
      "504     21.0  396.90   5.64  23.9  \n",
      "505     21.0  393.45   6.48  22.0  \n",
      "506     21.0  396.90   7.88  11.9  \n",
      "\n",
      "[506 rows x 14 columns]\n"
     ]
    }
   ],
   "source": [
    "#boston =sklearn.datasets.load_boston()\n",
    "with open('E:/UChicago Courses/Autumn Quarter 2017/Machine Learning/Assignments/HW2/Boston.csv', newline ='') as data:\n",
    "        df = pd.read_csv(data, index_col=0, parse_dates=True)\n",
    "        print(df)\n",
    "\n"
   ]
  },
  {
   "cell_type": "code",
   "execution_count": 92,
   "metadata": {
    "collapsed": false
   },
   "outputs": [
    {
     "name": "stdout",
     "output_type": "stream",
     "text": [
      "                            OLS Regression Results                            \n",
      "==============================================================================\n",
      "Dep. Variable:                      y   R-squared:                       0.300\n",
      "Model:                            OLS   Adj. R-squared:                  0.293\n",
      "Method:                 Least Squares   F-statistic:                     42.44\n",
      "Date:                Wed, 11 Oct 2017   Prob (F-statistic):           3.06e-09\n",
      "Time:                        14:49:19   Log-Likelihood:                -142.16\n",
      "No. Observations:                 101   AIC:                             288.3\n",
      "Df Residuals:                      99   BIC:                             293.5\n",
      "Df Model:                           1                                         \n",
      "Covariance Type:            nonrobust                                         \n",
      "==============================================================================\n",
      "                 coef    std err          t      P>|t|      [95.0% Conf. Int.]\n",
      "------------------------------------------------------------------------------\n",
      "Intercept      1.9943      0.176     11.312      0.000         1.645     2.344\n",
      "x1             2.0196      0.310      6.515      0.000         1.405     2.635\n",
      "==============================================================================\n",
      "Omnibus:                        8.260   Durbin-Watson:                   1.827\n",
      "Prob(Omnibus):                  0.016   Jarque-Bera (JB):                9.792\n",
      "Skew:                           0.448   Prob(JB):                      0.00748\n",
      "Kurtosis:                       4.235   Cond. No.                         3.87\n",
      "==============================================================================\n",
      "\n",
      "Warnings:\n",
      "[1] Standard Errors assume that the covariance matrix of the errors is correctly specified.\n"
     ]
    }
   ],
   "source": [
    "#A)\n",
    "lm.zn = smf.ols(formula='CRIM ~ ZN', data = df)\n",
    "result.zn = lm2_new.fit()\n",
    "print(result.zn.summary())\n"
   ]
  },
  {
   "cell_type": "code",
   "execution_count": 100,
   "metadata": {
    "collapsed": false
   },
   "outputs": [
    {
     "name": "stdout",
     "output_type": "stream",
     "text": [
      "                            OLS Regression Results                            \n",
      "==============================================================================\n",
      "Dep. Variable:                   CRIM   R-squared:                       0.165\n",
      "Model:                            OLS   Adj. R-squared:                  0.164\n",
      "Method:                 Least Squares   F-statistic:                     99.82\n",
      "Date:                Wed, 11 Oct 2017   Prob (F-statistic):           1.45e-21\n",
      "Time:                        14:58:07   Log-Likelihood:                -1760.6\n",
      "No. Observations:                 506   AIC:                             3525.\n",
      "Df Residuals:                     504   BIC:                             3534.\n",
      "Df Model:                           1                                         \n",
      "Covariance Type:            nonrobust                                         \n",
      "==============================================================================\n",
      "                 coef    std err          t      P>|t|      [95.0% Conf. Int.]\n",
      "------------------------------------------------------------------------------\n",
      "Intercept     -2.0637      0.667     -3.093      0.002        -3.375    -0.753\n",
      "INDUS          0.5098      0.051      9.991      0.000         0.410     0.610\n",
      "==============================================================================\n",
      "Omnibus:                      585.118   Durbin-Watson:                   0.986\n",
      "Prob(Omnibus):                  0.000   Jarque-Bera (JB):            41418.938\n",
      "Skew:                           5.449   Prob(JB):                         0.00\n",
      "Kurtosis:                      45.962   Cond. No.                         25.1\n",
      "==============================================================================\n",
      "\n",
      "Warnings:\n",
      "[1] Standard Errors assume that the covariance matrix of the errors is correctly specified.\n"
     ]
    }
   ],
   "source": [
    "lm.ind = smf.ols(formula='CRIM ~ INDUS', data = df)\n",
    "result.ind = lm.ind.fit()\n",
    "print(result.ind.summary())\n"
   ]
  },
  {
   "cell_type": "code",
   "execution_count": 101,
   "metadata": {
    "collapsed": false
   },
   "outputs": [
    {
     "name": "stdout",
     "output_type": "stream",
     "text": [
      "                            OLS Regression Results                            \n",
      "==============================================================================\n",
      "Dep. Variable:                   CRIM   R-squared:                       0.003\n",
      "Model:                            OLS   Adj. R-squared:                  0.001\n",
      "Method:                 Least Squares   F-statistic:                     1.579\n",
      "Date:                Wed, 11 Oct 2017   Prob (F-statistic):              0.209\n",
      "Time:                        14:58:29   Log-Likelihood:                -1805.6\n",
      "No. Observations:                 506   AIC:                             3615.\n",
      "Df Residuals:                     504   BIC:                             3624.\n",
      "Df Model:                           1                                         \n",
      "Covariance Type:            nonrobust                                         \n",
      "==============================================================================\n",
      "                 coef    std err          t      P>|t|      [95.0% Conf. Int.]\n",
      "------------------------------------------------------------------------------\n",
      "Intercept      3.7444      0.396      9.453      0.000         2.966     4.523\n",
      "CHAS          -1.8928      1.506     -1.257      0.209        -4.852     1.066\n",
      "==============================================================================\n",
      "Omnibus:                      561.663   Durbin-Watson:                   0.817\n",
      "Prob(Omnibus):                  0.000   Jarque-Bera (JB):            30645.429\n",
      "Skew:                           5.191   Prob(JB):                         0.00\n",
      "Kurtosis:                      39.685   Cond. No.                         3.96\n",
      "==============================================================================\n",
      "\n",
      "Warnings:\n",
      "[1] Standard Errors assume that the covariance matrix of the errors is correctly specified.\n"
     ]
    }
   ],
   "source": [
    "lm.chas = smf.ols(formula='CRIM ~ CHAS', data = df)\n",
    "result.chas = lm.chas.fit()\n",
    "print(result.chas.summary())"
   ]
  },
  {
   "cell_type": "code",
   "execution_count": 102,
   "metadata": {
    "collapsed": false
   },
   "outputs": [
    {
     "name": "stdout",
     "output_type": "stream",
     "text": [
      "                            OLS Regression Results                            \n",
      "==============================================================================\n",
      "Dep. Variable:                   CRIM   R-squared:                       0.177\n",
      "Model:                            OLS   Adj. R-squared:                  0.176\n",
      "Method:                 Least Squares   F-statistic:                     108.6\n",
      "Date:                Wed, 11 Oct 2017   Prob (F-statistic):           3.75e-23\n",
      "Time:                        14:58:30   Log-Likelihood:                -1757.0\n",
      "No. Observations:                 506   AIC:                             3518.\n",
      "Df Residuals:                     504   BIC:                             3526.\n",
      "Df Model:                           1                                         \n",
      "Covariance Type:            nonrobust                                         \n",
      "==============================================================================\n",
      "                 coef    std err          t      P>|t|      [95.0% Conf. Int.]\n",
      "------------------------------------------------------------------------------\n",
      "Intercept    -13.7199      1.699     -8.073      0.000       -17.059   -10.381\n",
      "NOX           31.2485      2.999     10.419      0.000        25.356    37.141\n",
      "==============================================================================\n",
      "Omnibus:                      591.712   Durbin-Watson:                   0.992\n",
      "Prob(Omnibus):                  0.000   Jarque-Bera (JB):            43138.106\n",
      "Skew:                           5.546   Prob(JB):                         0.00\n",
      "Kurtosis:                      46.852   Cond. No.                         11.3\n",
      "==============================================================================\n",
      "\n",
      "Warnings:\n",
      "[1] Standard Errors assume that the covariance matrix of the errors is correctly specified.\n"
     ]
    }
   ],
   "source": [
    "lm.nox = smf.ols(formula='CRIM ~ NOX', data = df)\n",
    "result.nox = lm.nox.fit()\n",
    "print(result.nox.summary())\n",
    "\n"
   ]
  },
  {
   "cell_type": "code",
   "execution_count": 103,
   "metadata": {
    "collapsed": false
   },
   "outputs": [
    {
     "name": "stdout",
     "output_type": "stream",
     "text": [
      "                            OLS Regression Results                            \n",
      "==============================================================================\n",
      "Dep. Variable:                   CRIM   R-squared:                       0.048\n",
      "Model:                            OLS   Adj. R-squared:                  0.046\n",
      "Method:                 Least Squares   F-statistic:                     25.45\n",
      "Date:                Wed, 11 Oct 2017   Prob (F-statistic):           6.35e-07\n",
      "Time:                        14:58:38   Log-Likelihood:                -1793.9\n",
      "No. Observations:                 506   AIC:                             3592.\n",
      "Df Residuals:                     504   BIC:                             3600.\n",
      "Df Model:                           1                                         \n",
      "Covariance Type:            nonrobust                                         \n",
      "==============================================================================\n",
      "                 coef    std err          t      P>|t|      [95.0% Conf. Int.]\n",
      "------------------------------------------------------------------------------\n",
      "Intercept     20.4818      3.364      6.088      0.000        13.872    27.092\n",
      "RM            -2.6841      0.532     -5.045      0.000        -3.729    -1.639\n",
      "==============================================================================\n",
      "Omnibus:                      575.717   Durbin-Watson:                   0.879\n",
      "Prob(Omnibus):                  0.000   Jarque-Bera (JB):            36658.093\n",
      "Skew:                           5.345   Prob(JB):                         0.00\n",
      "Kurtosis:                      43.305   Cond. No.                         58.4\n",
      "==============================================================================\n",
      "\n",
      "Warnings:\n",
      "[1] Standard Errors assume that the covariance matrix of the errors is correctly specified.\n"
     ]
    }
   ],
   "source": [
    "lm.rm = smf.ols(formula='CRIM ~ RM', data = df)\n",
    "result.rm = lm.rm.fit()\n",
    "print(result.rm.summary())\n"
   ]
  },
  {
   "cell_type": "code",
   "execution_count": 135,
   "metadata": {
    "collapsed": false
   },
   "outputs": [
    {
     "name": "stdout",
     "output_type": "stream",
     "text": [
      "                            OLS Regression Results                            \n",
      "==============================================================================\n",
      "Dep. Variable:                   CRIM   R-squared:                       0.124\n",
      "Model:                            OLS   Adj. R-squared:                  0.123\n",
      "Method:                 Least Squares   F-statistic:                     71.62\n",
      "Date:                Wed, 11 Oct 2017   Prob (F-statistic):           2.85e-16\n",
      "Time:                        15:15:07   Log-Likelihood:                -1772.7\n",
      "No. Observations:                 506   AIC:                             3549.\n",
      "Df Residuals:                     504   BIC:                             3558.\n",
      "Df Model:                           1                                         \n",
      "Covariance Type:            nonrobust                                         \n",
      "==============================================================================\n",
      "                 coef    std err          t      P>|t|      [95.0% Conf. Int.]\n",
      "------------------------------------------------------------------------------\n",
      "Intercept     -3.7779      0.944     -4.002      0.000        -5.633    -1.923\n",
      "AGE            0.1078      0.013      8.463      0.000         0.083     0.133\n",
      "==============================================================================\n",
      "Omnibus:                      574.509   Durbin-Watson:                   0.956\n",
      "Prob(Omnibus):                  0.000   Jarque-Bera (JB):            36741.903\n",
      "Skew:                           5.322   Prob(JB):                         0.00\n",
      "Kurtosis:                      43.366   Cond. No.                         195.\n",
      "==============================================================================\n",
      "\n",
      "Warnings:\n",
      "[1] Standard Errors assume that the covariance matrix of the errors is correctly specified.\n"
     ]
    }
   ],
   "source": [
    "lm.age = smf.ols(formula='CRIM ~ AGE', data = df)\n",
    "result.age = lm.age.fit()\n",
    "print(result.age.summary())"
   ]
  },
  {
   "cell_type": "code",
   "execution_count": 104,
   "metadata": {
    "collapsed": false
   },
   "outputs": [
    {
     "name": "stdout",
     "output_type": "stream",
     "text": [
      "                            OLS Regression Results                            \n",
      "==============================================================================\n",
      "Dep. Variable:                   CRIM   R-squared:                       0.003\n",
      "Model:                            OLS   Adj. R-squared:                  0.001\n",
      "Method:                 Least Squares   F-statistic:                     1.579\n",
      "Date:                Wed, 11 Oct 2017   Prob (F-statistic):              0.209\n",
      "Time:                        14:58:47   Log-Likelihood:                -1805.6\n",
      "No. Observations:                 506   AIC:                             3615.\n",
      "Df Residuals:                     504   BIC:                             3624.\n",
      "Df Model:                           1                                         \n",
      "Covariance Type:            nonrobust                                         \n",
      "==============================================================================\n",
      "                 coef    std err          t      P>|t|      [95.0% Conf. Int.]\n",
      "------------------------------------------------------------------------------\n",
      "Intercept      3.7444      0.396      9.453      0.000         2.966     4.523\n",
      "CHAS          -1.8928      1.506     -1.257      0.209        -4.852     1.066\n",
      "==============================================================================\n",
      "Omnibus:                      561.663   Durbin-Watson:                   0.817\n",
      "Prob(Omnibus):                  0.000   Jarque-Bera (JB):            30645.429\n",
      "Skew:                           5.191   Prob(JB):                         0.00\n",
      "Kurtosis:                      39.685   Cond. No.                         3.96\n",
      "==============================================================================\n",
      "\n",
      "Warnings:\n",
      "[1] Standard Errors assume that the covariance matrix of the errors is correctly specified.\n"
     ]
    }
   ],
   "source": [
    "lm.chase = smf.ols(formula='CRIM ~ CHAS', data = df)\n",
    "result.chase = lm.chase.fit()\n",
    "print(result.chase.summary())\n"
   ]
  },
  {
   "cell_type": "code",
   "execution_count": 105,
   "metadata": {
    "collapsed": false
   },
   "outputs": [
    {
     "name": "stdout",
     "output_type": "stream",
     "text": [
      "                            OLS Regression Results                            \n",
      "==============================================================================\n",
      "Dep. Variable:                   CRIM   R-squared:                       0.144\n",
      "Model:                            OLS   Adj. R-squared:                  0.142\n",
      "Method:                 Least Squares   F-statistic:                     84.89\n",
      "Date:                Wed, 11 Oct 2017   Prob (F-statistic):           8.52e-19\n",
      "Time:                        14:58:53   Log-Likelihood:                -1767.0\n",
      "No. Observations:                 506   AIC:                             3538.\n",
      "Df Residuals:                     504   BIC:                             3546.\n",
      "Df Model:                           1                                         \n",
      "Covariance Type:            nonrobust                                         \n",
      "==============================================================================\n",
      "                 coef    std err          t      P>|t|      [95.0% Conf. Int.]\n",
      "------------------------------------------------------------------------------\n",
      "Intercept      9.4993      0.730     13.006      0.000         8.064    10.934\n",
      "DIS           -1.5509      0.168     -9.213      0.000        -1.882    -1.220\n",
      "==============================================================================\n",
      "Omnibus:                      576.519   Durbin-Watson:                   0.952\n",
      "Prob(Omnibus):                  0.000   Jarque-Bera (JB):            37426.729\n",
      "Skew:                           5.348   Prob(JB):                         0.00\n",
      "Kurtosis:                      43.753   Cond. No.                         9.32\n",
      "==============================================================================\n",
      "\n",
      "Warnings:\n",
      "[1] Standard Errors assume that the covariance matrix of the errors is correctly specified.\n"
     ]
    }
   ],
   "source": [
    "lm.dis = smf.ols(formula='CRIM ~ DIS', data = df)\n",
    "result.dis = lm.dis.fit()\n",
    "print(result.dis.summary())\n"
   ]
  },
  {
   "cell_type": "code",
   "execution_count": 106,
   "metadata": {
    "collapsed": false
   },
   "outputs": [
    {
     "name": "stdout",
     "output_type": "stream",
     "text": [
      "                            OLS Regression Results                            \n",
      "==============================================================================\n",
      "Dep. Variable:                   CRIM   R-squared:                       0.391\n",
      "Model:                            OLS   Adj. R-squared:                  0.390\n",
      "Method:                 Least Squares   F-statistic:                     323.9\n",
      "Date:                Wed, 11 Oct 2017   Prob (F-statistic):           2.69e-56\n",
      "Time:                        14:59:03   Log-Likelihood:                -1680.8\n",
      "No. Observations:                 506   AIC:                             3366.\n",
      "Df Residuals:                     504   BIC:                             3374.\n",
      "Df Model:                           1                                         \n",
      "Covariance Type:            nonrobust                                         \n",
      "==============================================================================\n",
      "                 coef    std err          t      P>|t|      [95.0% Conf. Int.]\n",
      "------------------------------------------------------------------------------\n",
      "Intercept     -2.2872      0.443     -5.157      0.000        -3.158    -1.416\n",
      "RAD            0.6179      0.034     17.998      0.000         0.550     0.685\n",
      "==============================================================================\n",
      "Omnibus:                      656.459   Durbin-Watson:                   1.337\n",
      "Prob(Omnibus):                  0.000   Jarque-Bera (JB):            75417.007\n",
      "Skew:                           6.478   Prob(JB):                         0.00\n",
      "Kurtosis:                      61.389   Cond. No.                         19.2\n",
      "==============================================================================\n",
      "\n",
      "Warnings:\n",
      "[1] Standard Errors assume that the covariance matrix of the errors is correctly specified.\n"
     ]
    }
   ],
   "source": [
    "lm.rad = smf.ols(formula='CRIM ~ RAD', data = df)\n",
    "result.rad = lm.rad.fit()\n",
    "print(result.rad.summary())\n"
   ]
  },
  {
   "cell_type": "code",
   "execution_count": 107,
   "metadata": {
    "collapsed": false
   },
   "outputs": [
    {
     "name": "stdout",
     "output_type": "stream",
     "text": [
      "                            OLS Regression Results                            \n",
      "==============================================================================\n",
      "Dep. Variable:                   CRIM   R-squared:                       0.340\n",
      "Model:                            OLS   Adj. R-squared:                  0.338\n",
      "Method:                 Least Squares   F-statistic:                     259.2\n",
      "Date:                Wed, 11 Oct 2017   Prob (F-statistic):           2.36e-47\n",
      "Time:                        14:59:10   Log-Likelihood:                -1701.4\n",
      "No. Observations:                 506   AIC:                             3407.\n",
      "Df Residuals:                     504   BIC:                             3415.\n",
      "Df Model:                           1                                         \n",
      "Covariance Type:            nonrobust                                         \n",
      "==============================================================================\n",
      "                 coef    std err          t      P>|t|      [95.0% Conf. Int.]\n",
      "------------------------------------------------------------------------------\n",
      "Intercept     -8.5284      0.816    -10.454      0.000       -10.131    -6.926\n",
      "TAX            0.0297      0.002     16.099      0.000         0.026     0.033\n",
      "==============================================================================\n",
      "Omnibus:                      635.377   Durbin-Watson:                   1.252\n",
      "Prob(Omnibus):                  0.000   Jarque-Bera (JB):            63763.835\n",
      "Skew:                           6.156   Prob(JB):                         0.00\n",
      "Kurtosis:                      56.599   Cond. No.                     1.16e+03\n",
      "==============================================================================\n",
      "\n",
      "Warnings:\n",
      "[1] Standard Errors assume that the covariance matrix of the errors is correctly specified.\n",
      "[2] The condition number is large, 1.16e+03. This might indicate that there are\n",
      "strong multicollinearity or other numerical problems.\n"
     ]
    }
   ],
   "source": [
    "lm.tax = smf.ols(formula='CRIM ~ TAX', data = df)\n",
    "result.tax = lm.tax.fit()\n",
    "print(result.tax.summary())\n"
   ]
  },
  {
   "cell_type": "code",
   "execution_count": 108,
   "metadata": {
    "collapsed": false
   },
   "outputs": [
    {
     "name": "stdout",
     "output_type": "stream",
     "text": [
      "                            OLS Regression Results                            \n",
      "==============================================================================\n",
      "Dep. Variable:                   CRIM   R-squared:                       0.084\n",
      "Model:                            OLS   Adj. R-squared:                  0.082\n",
      "Method:                 Least Squares   F-statistic:                     46.26\n",
      "Date:                Wed, 11 Oct 2017   Prob (F-statistic):           2.94e-11\n",
      "Time:                        14:59:20   Log-Likelihood:                -1784.1\n",
      "No. Observations:                 506   AIC:                             3572.\n",
      "Df Residuals:                     504   BIC:                             3581.\n",
      "Df Model:                           1                                         \n",
      "Covariance Type:            nonrobust                                         \n",
      "==============================================================================\n",
      "                 coef    std err          t      P>|t|      [95.0% Conf. Int.]\n",
      "------------------------------------------------------------------------------\n",
      "Intercept    -17.6469      3.147     -5.607      0.000       -23.830   -11.464\n",
      "PTRATIO        1.1520      0.169      6.801      0.000         0.819     1.485\n",
      "==============================================================================\n",
      "Omnibus:                      568.053   Durbin-Watson:                   0.905\n",
      "Prob(Omnibus):                  0.000   Jarque-Bera (JB):            34221.853\n",
      "Skew:                           5.245   Prob(JB):                         0.00\n",
      "Kurtosis:                      41.899   Cond. No.                         160.\n",
      "==============================================================================\n",
      "\n",
      "Warnings:\n",
      "[1] Standard Errors assume that the covariance matrix of the errors is correctly specified.\n"
     ]
    }
   ],
   "source": [
    "lm.ptratio  = smf.ols(formula='CRIM ~ PTRATIO ', data = df)\n",
    "result.ptratio = lm.ptratio.fit()\n",
    "print(result.ptratio.summary())\n"
   ]
  },
  {
   "cell_type": "code",
   "execution_count": 109,
   "metadata": {
    "collapsed": false
   },
   "outputs": [
    {
     "name": "stdout",
     "output_type": "stream",
     "text": [
      "                            OLS Regression Results                            \n",
      "==============================================================================\n",
      "Dep. Variable:                   CRIM   R-squared:                       0.148\n",
      "Model:                            OLS   Adj. R-squared:                  0.147\n",
      "Method:                 Least Squares   F-statistic:                     87.74\n",
      "Date:                Wed, 11 Oct 2017   Prob (F-statistic):           2.49e-19\n",
      "Time:                        14:59:28   Log-Likelihood:                -1765.8\n",
      "No. Observations:                 506   AIC:                             3536.\n",
      "Df Residuals:                     504   BIC:                             3544.\n",
      "Df Model:                           1                                         \n",
      "Covariance Type:            nonrobust                                         \n",
      "==============================================================================\n",
      "                 coef    std err          t      P>|t|      [95.0% Conf. Int.]\n",
      "------------------------------------------------------------------------------\n",
      "Intercept     16.5535      1.426     11.609      0.000        13.752    19.355\n",
      "BLACK         -0.0363      0.004     -9.367      0.000        -0.044    -0.029\n",
      "==============================================================================\n",
      "Omnibus:                      594.029   Durbin-Watson:                   0.994\n",
      "Prob(Omnibus):                  0.000   Jarque-Bera (JB):            44041.935\n",
      "Skew:                           5.578   Prob(JB):                         0.00\n",
      "Kurtosis:                      47.323   Cond. No.                     1.49e+03\n",
      "==============================================================================\n",
      "\n",
      "Warnings:\n",
      "[1] Standard Errors assume that the covariance matrix of the errors is correctly specified.\n",
      "[2] The condition number is large, 1.49e+03. This might indicate that there are\n",
      "strong multicollinearity or other numerical problems.\n"
     ]
    }
   ],
   "source": [
    "lm.black  = smf.ols(formula='CRIM ~ BLACK', data = df)\n",
    "result.black = lm.black.fit()\n",
    "print(result.black.summary())\n"
   ]
  },
  {
   "cell_type": "code",
   "execution_count": 110,
   "metadata": {
    "collapsed": false
   },
   "outputs": [
    {
     "name": "stdout",
     "output_type": "stream",
     "text": [
      "                            OLS Regression Results                            \n",
      "==============================================================================\n",
      "Dep. Variable:                   CRIM   R-squared:                       0.208\n",
      "Model:                            OLS   Adj. R-squared:                  0.206\n",
      "Method:                 Least Squares   F-statistic:                     132.0\n",
      "Date:                Wed, 11 Oct 2017   Prob (F-statistic):           2.65e-27\n",
      "Time:                        14:59:39   Log-Likelihood:                -1747.5\n",
      "No. Observations:                 506   AIC:                             3499.\n",
      "Df Residuals:                     504   BIC:                             3507.\n",
      "Df Model:                           1                                         \n",
      "Covariance Type:            nonrobust                                         \n",
      "==============================================================================\n",
      "                 coef    std err          t      P>|t|      [95.0% Conf. Int.]\n",
      "------------------------------------------------------------------------------\n",
      "Intercept     -3.3305      0.694     -4.801      0.000        -4.694    -1.968\n",
      "LSTAT          0.5488      0.048     11.491      0.000         0.455     0.643\n",
      "==============================================================================\n",
      "Omnibus:                      601.306   Durbin-Watson:                   1.182\n",
      "Prob(Omnibus):                  0.000   Jarque-Bera (JB):            49918.826\n",
      "Skew:                           5.645   Prob(JB):                         0.00\n",
      "Kurtosis:                      50.331   Cond. No.                         29.7\n",
      "==============================================================================\n",
      "\n",
      "Warnings:\n",
      "[1] Standard Errors assume that the covariance matrix of the errors is correctly specified.\n"
     ]
    }
   ],
   "source": [
    "lm.lstat = smf.ols(formula='CRIM ~ LSTAT', data = df)\n",
    "result.lstat = lm.lstat.fit()\n",
    "print(result.lstat.summary())\n"
   ]
  },
  {
   "cell_type": "code",
   "execution_count": 99,
   "metadata": {
    "collapsed": false
   },
   "outputs": [
    {
     "name": "stdout",
     "output_type": "stream",
     "text": [
      "                            OLS Regression Results                            \n",
      "==============================================================================\n",
      "Dep. Variable:                   CRIM   R-squared:                       0.151\n",
      "Model:                            OLS   Adj. R-squared:                  0.149\n",
      "Method:                 Least Squares   F-statistic:                     89.49\n",
      "Date:                Wed, 11 Oct 2017   Prob (F-statistic):           1.17e-19\n",
      "Time:                        14:57:11   Log-Likelihood:                -1765.0\n",
      "No. Observations:                 506   AIC:                             3534.\n",
      "Df Residuals:                     504   BIC:                             3542.\n",
      "Df Model:                           1                                         \n",
      "Covariance Type:            nonrobust                                         \n",
      "==============================================================================\n",
      "                 coef    std err          t      P>|t|      [95.0% Conf. Int.]\n",
      "------------------------------------------------------------------------------\n",
      "Intercept     11.7965      0.934     12.628      0.000         9.961    13.632\n",
      "MEDV          -0.3632      0.038     -9.460      0.000        -0.439    -0.288\n",
      "==============================================================================\n",
      "Omnibus:                      558.880   Durbin-Watson:                   0.996\n",
      "Prob(Omnibus):                  0.000   Jarque-Bera (JB):            32740.044\n",
      "Skew:                           5.108   Prob(JB):                         0.00\n",
      "Kurtosis:                      41.059   Cond. No.                         64.5\n",
      "==============================================================================\n",
      "\n",
      "Warnings:\n",
      "[1] Standard Errors assume that the covariance matrix of the errors is correctly specified.\n",
      "-0.363159922258\n"
     ]
    }
   ],
   "source": [
    "lm.medv = smf.ols(formula='CRIM ~ MEDV', data = df)\n",
    "result.medv = lm.medv.fit()\n",
    "print(result.medv.summary())\n"
   ]
  },
  {
   "cell_type": "code",
   "execution_count": null,
   "metadata": {
    "collapsed": true
   },
   "outputs": [],
   "source": [
    "#To find which predictors are significant, we have to test H0:B1=0\n",
    "#All predictors have a p-value less than 0.05 except CHAS , so we may conclude that there is a \n",
    "#statistically significant association between each predictor and the response except for the CHAS predictor.\n",
    "\n"
   ]
  },
  {
   "cell_type": "code",
   "execution_count": 95,
   "metadata": {
    "collapsed": false
   },
   "outputs": [
    {
     "name": "stdout",
     "output_type": "stream",
     "text": [
      "                            OLS Regression Results                            \n",
      "==============================================================================\n",
      "Dep. Variable:                   CRIM   R-squared:                       0.454\n",
      "Model:                            OLS   Adj. R-squared:                  0.440\n",
      "Method:                 Least Squares   F-statistic:                     31.47\n",
      "Date:                Wed, 11 Oct 2017   Prob (F-statistic):           1.57e-56\n",
      "Time:                        14:54:05   Log-Likelihood:                -1653.3\n",
      "No. Observations:                 506   AIC:                             3335.\n",
      "Df Residuals:                     492   BIC:                             3394.\n",
      "Df Model:                          13                                         \n",
      "Covariance Type:            nonrobust                                         \n",
      "==============================================================================\n",
      "                 coef    std err          t      P>|t|      [95.0% Conf. Int.]\n",
      "------------------------------------------------------------------------------\n",
      "Intercept     17.0332      7.235      2.354      0.019         2.818    31.248\n",
      "ZN             0.0449      0.019      2.394      0.017         0.008     0.082\n",
      "INDUS         -0.0639      0.083     -0.766      0.444        -0.228     0.100\n",
      "CHAS          -0.7491      1.180     -0.635      0.526        -3.068     1.570\n",
      "NOX          -10.3135      5.276     -1.955      0.051       -20.679     0.052\n",
      "RM             0.4301      0.613      0.702      0.483        -0.774     1.634\n",
      "AGE            0.0015      0.018      0.081      0.935        -0.034     0.037\n",
      "DIS           -0.9872      0.282     -3.503      0.001        -1.541    -0.433\n",
      "RAD            0.5882      0.088      6.680      0.000         0.415     0.761\n",
      "TAX           -0.0038      0.005     -0.733      0.464        -0.014     0.006\n",
      "PTRATIO       -0.2711      0.186     -1.454      0.147        -0.637     0.095\n",
      "BLACK         -0.0075      0.004     -2.052      0.041        -0.015    -0.000\n",
      "LSTAT          0.1262      0.076      1.667      0.096        -0.023     0.275\n",
      "MEDV          -0.1989      0.061     -3.287      0.001        -0.318    -0.080\n",
      "==============================================================================\n",
      "Omnibus:                      666.613   Durbin-Watson:                   1.519\n",
      "Prob(Omnibus):                  0.000   Jarque-Bera (JB):            84887.625\n",
      "Skew:                           6.617   Prob(JB):                         0.00\n",
      "Kurtosis:                      65.058   Cond. No.                     1.58e+04\n",
      "==============================================================================\n",
      "\n",
      "Warnings:\n",
      "[1] Standard Errors assume that the covariance matrix of the errors is correctly specified.\n",
      "[2] The condition number is large, 1.58e+04. This might indicate that there are\n",
      "strong multicollinearity or other numerical problems.\n"
     ]
    }
   ],
   "source": [
    "#B)\n",
    "\n",
    "lm.all = smf.ols(formula='CRIM ~ ZN + INDUS + CHAS + NOX + RM + AGE + DIS + RAD + TAX + PTRATIO + BLACK + LSTAT + MEDV ', data = df)\n",
    "result.all = lm.all.fit()\n",
    "print(result.all.summary())\n",
    "\n",
    "#The R-squared is low, 45% which does not make this a good model. \n",
    "#We may reject the null hypothesis for ZN, NOX, DIS, RAD, BLACK, LASTAT ADN MEDV. All these coefficients have low p-value \n",
    "#and are significant \n",
    "\n"
   ]
  },
  {
   "cell_type": "code",
   "execution_count": 137,
   "metadata": {
    "collapsed": false
   },
   "outputs": [
    {
     "data": {
      "image/png": "[encoded data removed]",
      "text/plain": [
       "<matplotlib.figure.Figure at 0x21038cdfe80>"
      ]
     },
     "metadata": {},
     "output_type": "display_data"
    }
   ],
   "source": [
    "#C\n",
    "\n",
    "a=np.array([[result.zn.params[1]], [result.chas.params[1]],[result.rm.params[1]], [result.rad.params[1]],[result.tax.params[1]],\n",
    "           [result.black.params[1]],[result.lstat.params[1]],[result.ind.params[1]], [result.nox.params[1]], [result.age.params[1]],\n",
    "           [result.dis.params[1]],[result.dis.params[1]],[result.ptratio.params[1]],[result.medv.params[1]]])\n",
    "\n",
    "b=np.array([[result.all.params]])\n",
    "plt.scatter(a,b, c= 'red')\n",
    "plt.show()"
   ]
  },
  {
   "cell_type": "code",
   "execution_count": 138,
   "metadata": {
    "collapsed": false
   },
   "outputs": [],
   "source": [
    "#C\n",
    "\n",
    "#There is a difference between the simple and multiple regression coefficients. This difference is due to the fact that in \n",
    "#the simple regression case, the coefficient represents the effect of an increase in the predictor while ignoring other \n",
    "#predictors. In contrast, in the multiple regression case, the slope term represents the average effect of an increase in\n",
    "#the predictor, while holding other predictors fixed. There is collinearity between the predictors which affects the multiplle \n",
    "#regression as well.\n",
    "\n",
    "\n"
   ]
  },
  {
   "cell_type": "code",
   "execution_count": 65,
   "metadata": {
    "collapsed": false
   },
   "outputs": [
    {
     "name": "stdout",
     "output_type": "stream",
     "text": [
      "                            OLS Regression Results                            \n",
      "==============================================================================\n",
      "Dep. Variable:                   CRIM   R-squared:                       0.058\n",
      "Model:                            OLS   Adj. R-squared:                  0.053\n",
      "Method:                 Least Squares   F-statistic:                     10.35\n",
      "Date:                Wed, 11 Oct 2017   Prob (F-statistic):           1.28e-06\n",
      "Time:                        14:20:41   Log-Likelihood:                -1791.2\n",
      "No. Observations:                 506   AIC:                             3590.\n",
      "Df Residuals:                     502   BIC:                             3607.\n",
      "Df Model:                           3                                         \n",
      "Covariance Type:            nonrobust                                         \n",
      "==============================================================================\n",
      "                 coef    std err          t      P>|t|      [95.0% Conf. Int.]\n",
      "------------------------------------------------------------------------------\n",
      "Intercept      2.4230      0.216     11.192      0.000         1.998     2.848\n",
      "zn[0]          2.4230      0.216     11.192      0.000         1.998     2.848\n",
      "zn[1]         -0.3322      0.110     -3.025      0.003        -0.548    -0.116\n",
      "zn[2]          0.0065      0.004      1.679      0.094        -0.001     0.014\n",
      "zn[3]      -3.776e-05   3.14e-05     -1.203      0.230     -9.94e-05  2.39e-05\n",
      "==============================================================================\n",
      "Omnibus:                      569.133   Durbin-Watson:                   0.875\n",
      "Prob(Omnibus):                  0.000   Jarque-Bera (JB):            33700.991\n",
      "Skew:                           5.272   Prob(JB):                         0.00\n",
      "Kurtosis:                      41.565   Cond. No.                     6.64e+17\n",
      "==============================================================================\n",
      "\n",
      "Warnings:\n",
      "[1] Standard Errors assume that the covariance matrix of the errors is correctly specified.\n",
      "[2] The smallest eigenvalue is  3e-23. This might indicate that there are\n",
      "strong multicollinearity problems or that the design matrix is singular.\n"
     ]
    }
   ],
   "source": [
    "#D)\n",
    "\n",
    "poly = PolynomialFeatures(degree=3)\n",
    "zn = poly.fit_transform(df.loc[:, ['ZN']])\n",
    "lm.zn2 = smf.ols(formula= 'CRIM ~ zn', data =df)\n",
    "result = lm.zn2.fit()\n",
    "print(result.summary())\n"
   ]
  },
  {
   "cell_type": "code",
   "execution_count": 66,
   "metadata": {
    "collapsed": false
   },
   "outputs": [
    {
     "name": "stdout",
     "output_type": "stream",
     "text": [
      "                            OLS Regression Results                            \n",
      "==============================================================================\n",
      "Dep. Variable:                   CRIM   R-squared:                       0.260\n",
      "Model:                            OLS   Adj. R-squared:                  0.255\n",
      "Method:                 Least Squares   F-statistic:                     58.69\n",
      "Date:                Wed, 11 Oct 2017   Prob (F-statistic):           1.55e-32\n",
      "Time:                        14:20:42   Log-Likelihood:                -1730.3\n",
      "No. Observations:                 506   AIC:                             3469.\n",
      "Df Residuals:                     502   BIC:                             3486.\n",
      "Df Model:                           3                                         \n",
      "Covariance Type:            nonrobust                                         \n",
      "==============================================================================\n",
      "                 coef    std err          t      P>|t|      [95.0% Conf. Int.]\n",
      "------------------------------------------------------------------------------\n",
      "Intercept      1.8313      0.787      2.327      0.020         0.285     3.377\n",
      "indus[0]       1.8313      0.787      2.327      0.020         0.285     3.377\n",
      "indus[1]      -1.9652      0.482     -4.077      0.000        -2.912    -1.018\n",
      "indus[2]       0.2519      0.039      6.407      0.000         0.175     0.329\n",
      "indus[3]      -0.0070      0.001     -7.292      0.000        -0.009    -0.005\n",
      "==============================================================================\n",
      "Omnibus:                      611.788   Durbin-Watson:                   1.116\n",
      "Prob(Omnibus):                  0.000   Jarque-Bera (JB):            51742.286\n",
      "Skew:                           5.820   Prob(JB):                         0.00\n",
      "Kurtosis:                      51.153   Cond. No.                     1.13e+20\n",
      "==============================================================================\n",
      "\n",
      "Warnings:\n",
      "[1] Standard Errors assume that the covariance matrix of the errors is correctly specified.\n",
      "[2] The smallest eigenvalue is 9.86e-31. This might indicate that there are\n",
      "strong multicollinearity problems or that the design matrix is singular.\n"
     ]
    }
   ],
   "source": [
    "indus = poly.fit_transform(df.loc[:, ['INDUS']])\n",
    "lm.indus2 = smf.ols(formula= 'CRIM ~ indus', data =df)\n",
    "result = lm.indus2.fit()\n",
    "print(result.summary())"
   ]
  },
  {
   "cell_type": "code",
   "execution_count": 67,
   "metadata": {
    "collapsed": false
   },
   "outputs": [
    {
     "name": "stdout",
     "output_type": "stream",
     "text": [
      "                            OLS Regression Results                            \n",
      "==============================================================================\n",
      "Dep. Variable:                   CRIM   R-squared:                       0.003\n",
      "Model:                            OLS   Adj. R-squared:                  0.001\n",
      "Method:                 Least Squares   F-statistic:                     1.579\n",
      "Date:                Wed, 11 Oct 2017   Prob (F-statistic):              0.209\n",
      "Time:                        14:20:42   Log-Likelihood:                -1805.6\n",
      "No. Observations:                 506   AIC:                             3615.\n",
      "Df Residuals:                     504   BIC:                             3624.\n",
      "Df Model:                           1                                         \n",
      "Covariance Type:            nonrobust                                         \n",
      "==============================================================================\n",
      "                 coef    std err          t      P>|t|      [95.0% Conf. Int.]\n",
      "------------------------------------------------------------------------------\n",
      "Intercept      1.8722      0.198      9.453      0.000         1.483     2.261\n",
      "chas[0]        1.8722      0.198      9.453      0.000         1.483     2.261\n",
      "chas[1]       -0.6309      0.502     -1.257      0.209        -1.617     0.355\n",
      "chas[2]       -0.6309      0.502     -1.257      0.209        -1.617     0.355\n",
      "chas[3]       -0.6309      0.502     -1.257      0.209        -1.617     0.355\n",
      "==============================================================================\n",
      "Omnibus:                      561.663   Durbin-Watson:                   0.817\n",
      "Prob(Omnibus):                  0.000   Jarque-Bera (JB):            30645.429\n",
      "Skew:                           5.191   Prob(JB):                         0.00\n",
      "Kurtosis:                      39.685   Cond. No.                     9.98e+31\n",
      "==============================================================================\n",
      "\n",
      "Warnings:\n",
      "[1] Standard Errors assume that the covariance matrix of the errors is correctly specified.\n",
      "[2] The smallest eigenvalue is 1.02e-61. This might indicate that there are\n",
      "strong multicollinearity problems or that the design matrix is singular.\n"
     ]
    }
   ],
   "source": [
    "chas = poly.fit_transform(df.loc[:, ['CHAS']])\n",
    "lm.chas2 = smf.ols(formula= 'CRIM ~ chas', data =df)\n",
    "result = lm.chas2.fit()\n",
    "print(result.summary())"
   ]
  },
  {
   "cell_type": "code",
   "execution_count": 68,
   "metadata": {
    "collapsed": false
   },
   "outputs": [
    {
     "name": "stdout",
     "output_type": "stream",
     "text": [
      "                            OLS Regression Results                            \n",
      "==============================================================================\n",
      "Dep. Variable:                   CRIM   R-squared:                       0.297\n",
      "Model:                            OLS   Adj. R-squared:                  0.293\n",
      "Method:                 Least Squares   F-statistic:                     70.69\n",
      "Date:                Wed, 11 Oct 2017   Prob (F-statistic):           3.81e-38\n",
      "Time:                        14:20:42   Log-Likelihood:                -1717.2\n",
      "No. Observations:                 506   AIC:                             3442.\n",
      "Df Residuals:                     502   BIC:                             3459.\n",
      "Df Model:                           3                                         \n",
      "Covariance Type:            nonrobust                                         \n",
      "==============================================================================\n",
      "                 coef    std err          t      P>|t|      [95.0% Conf. Int.]\n",
      "------------------------------------------------------------------------------\n",
      "Intercept    116.5433     16.822      6.928      0.000        83.494   149.593\n",
      "nox[0]       116.5433     16.822      6.928      0.000        83.494   149.593\n",
      "nox[1]     -1279.3713    170.397     -7.508      0.000     -1614.151  -944.591\n",
      "nox[2]      2248.5441    279.899      8.033      0.000      1698.626  2798.462\n",
      "nox[3]     -1245.7029    149.282     -8.345      0.000     -1538.997  -952.409\n",
      "==============================================================================\n",
      "Omnibus:                      614.412   Durbin-Watson:                   1.159\n",
      "Prob(Omnibus):                  0.000   Jarque-Bera (JB):            53523.997\n",
      "Skew:                           5.851   Prob(JB):                         0.00\n",
      "Kurtosis:                      52.008   Cond. No.                     5.21e+18\n",
      "==============================================================================\n",
      "\n",
      "Warnings:\n",
      "[1] Standard Errors assume that the covariance matrix of the errors is correctly specified.\n",
      "[2] The smallest eigenvalue is 4.57e-35. This might indicate that there are\n",
      "strong multicollinearity problems or that the design matrix is singular.\n"
     ]
    }
   ],
   "source": [
    "nox = poly.fit_transform(df.loc[:, ['NOX']])\n",
    "lm.nox2 = smf.ols(formula= 'CRIM ~ nox', data =df)\n",
    "result = lm.nox2.fit()\n",
    "print(result.summary())"
   ]
  },
  {
   "cell_type": "code",
   "execution_count": 69,
   "metadata": {
    "collapsed": false
   },
   "outputs": [
    {
     "name": "stdout",
     "output_type": "stream",
     "text": [
      "                            OLS Regression Results                            \n",
      "==============================================================================\n",
      "Dep. Variable:                   CRIM   R-squared:                       0.068\n",
      "Model:                            OLS   Adj. R-squared:                  0.062\n",
      "Method:                 Least Squares   F-statistic:                     12.17\n",
      "Date:                Wed, 11 Oct 2017   Prob (F-statistic):           1.07e-07\n",
      "Time:                        14:20:42   Log-Likelihood:                -1788.6\n",
      "No. Observations:                 506   AIC:                             3585.\n",
      "Df Residuals:                     502   BIC:                             3602.\n",
      "Df Model:                           3                                         \n",
      "Covariance Type:            nonrobust                                         \n",
      "==============================================================================\n",
      "                 coef    std err          t      P>|t|      [95.0% Conf. Int.]\n",
      "------------------------------------------------------------------------------\n",
      "Intercept     56.3123     32.259      1.746      0.081        -7.066   119.691\n",
      "rm[0]         56.3123     32.259      1.746      0.081        -7.066   119.691\n",
      "rm[1]        -39.1501     31.311     -1.250      0.212      -100.668    22.368\n",
      "rm[2]          4.5509      5.010      0.908      0.364        -5.292    14.394\n",
      "rm[3]         -0.1745      0.264     -0.662      0.509        -0.693     0.344\n",
      "==============================================================================\n",
      "Omnibus:                      585.097   Durbin-Watson:                   0.913\n",
      "Prob(Omnibus):                  0.000   Jarque-Bera (JB):            40144.207\n",
      "Skew:                           5.465   Prob(JB):                         0.00\n",
      "Kurtosis:                      45.245   Cond. No.                     8.90e+19\n",
      "==============================================================================\n",
      "\n",
      "Warnings:\n",
      "[1] Standard Errors assume that the covariance matrix of the errors is correctly specified.\n",
      "[2] The smallest eigenvalue is 4.87e-33. This might indicate that there are\n",
      "strong multicollinearity problems or that the design matrix is singular.\n"
     ]
    }
   ],
   "source": [
    "rm = poly.fit_transform(df.loc[:, ['RM']])\n",
    "lm.rm2 = smf.ols(formula= 'CRIM ~ rm', data =df)\n",
    "result = lm.rm2.fit()\n",
    "print(result.summary())"
   ]
  },
  {
   "cell_type": "code",
   "execution_count": 70,
   "metadata": {
    "collapsed": false
   },
   "outputs": [
    {
     "name": "stdout",
     "output_type": "stream",
     "text": [
      "                            OLS Regression Results                            \n",
      "==============================================================================\n",
      "Dep. Variable:                   CRIM   R-squared:                       0.174\n",
      "Model:                            OLS   Adj. R-squared:                  0.169\n",
      "Method:                 Least Squares   F-statistic:                     35.31\n",
      "Date:                Wed, 11 Oct 2017   Prob (F-statistic):           1.02e-20\n",
      "Time:                        14:20:43   Log-Likelihood:                -1757.9\n",
      "No. Observations:                 506   AIC:                             3524.\n",
      "Df Residuals:                     502   BIC:                             3541.\n",
      "Df Model:                           3                                         \n",
      "Covariance Type:            nonrobust                                         \n",
      "==============================================================================\n",
      "                 coef    std err          t      P>|t|      [95.0% Conf. Int.]\n",
      "------------------------------------------------------------------------------\n",
      "Intercept     -1.2744      1.385     -0.920      0.358        -3.995     1.446\n",
      "age[0]        -1.2744      1.385     -0.920      0.358        -3.995     1.446\n",
      "age[1]         0.2737      0.186      1.468      0.143        -0.093     0.640\n",
      "age[2]        -0.0072      0.004     -1.988      0.047        -0.014  -8.4e-05\n",
      "age[3]      5.745e-05   2.11e-05      2.724      0.007       1.6e-05  9.89e-05\n",
      "==============================================================================\n",
      "Omnibus:                      577.477   Durbin-Watson:                   1.025\n",
      "Prob(Omnibus):                  0.000   Jarque-Bera (JB):            39586.670\n",
      "Skew:                           5.336   Prob(JB):                         0.00\n",
      "Kurtosis:                      44.997   Cond. No.                     2.19e+18\n",
      "==============================================================================\n",
      "\n",
      "Warnings:\n",
      "[1] Standard Errors assume that the covariance matrix of the errors is correctly specified.\n",
      "[2] The smallest eigenvalue is 3.73e-23. This might indicate that there are\n",
      "strong multicollinearity problems or that the design matrix is singular.\n"
     ]
    }
   ],
   "source": [
    "age = poly.fit_transform(df.loc[:, ['AGE']])\n",
    "lm.age2 = smf.ols(formula= 'CRIM ~ age', data =df)\n",
    "result = lm.age2.fit()\n",
    "print(result.summary())"
   ]
  },
  {
   "cell_type": "code",
   "execution_count": 71,
   "metadata": {
    "collapsed": false
   },
   "outputs": [
    {
     "name": "stdout",
     "output_type": "stream",
     "text": [
      "                            OLS Regression Results                            \n",
      "==============================================================================\n",
      "Dep. Variable:                   CRIM   R-squared:                       0.278\n",
      "Model:                            OLS   Adj. R-squared:                  0.274\n",
      "Method:                 Least Squares   F-statistic:                     64.37\n",
      "Date:                Wed, 11 Oct 2017   Prob (F-statistic):           3.14e-35\n",
      "Time:                        14:20:43   Log-Likelihood:                -1724.0\n",
      "No. Observations:                 506   AIC:                             3456.\n",
      "Df Residuals:                     502   BIC:                             3473.\n",
      "Df Model:                           3                                         \n",
      "Covariance Type:            nonrobust                                         \n",
      "==============================================================================\n",
      "                 coef    std err          t      P>|t|      [95.0% Conf. Int.]\n",
      "------------------------------------------------------------------------------\n",
      "Intercept     15.0238      1.223     12.285      0.000        12.621    17.427\n",
      "dis[0]        15.0238      1.223     12.285      0.000        12.621    17.427\n",
      "dis[1]       -15.5544      1.736     -8.960      0.000       -18.965   -12.144\n",
      "dis[2]         2.4521      0.346      7.078      0.000         1.771     3.133\n",
      "dis[3]        -0.1186      0.020     -5.814      0.000        -0.159    -0.079\n",
      "==============================================================================\n",
      "Omnibus:                      577.742   Durbin-Watson:                   1.129\n",
      "Prob(Omnibus):                  0.000   Jarque-Bera (JB):            42444.706\n",
      "Skew:                           5.305   Prob(JB):                         0.00\n",
      "Kurtosis:                      46.596   Cond. No.                     3.58e+17\n",
      "==============================================================================\n",
      "\n",
      "Warnings:\n",
      "[1] Standard Errors assume that the covariance matrix of the errors is correctly specified.\n",
      "[2] The smallest eigenvalue is 2.07e-28. This might indicate that there are\n",
      "strong multicollinearity problems or that the design matrix is singular.\n"
     ]
    }
   ],
   "source": [
    "dis = poly.fit_transform(df.loc[:, ['DIS']])\n",
    "lm.dis2 = smf.ols(formula= 'CRIM ~ dis', data =df)\n",
    "result = lm.dis2.fit()\n",
    "print(result.summary())"
   ]
  },
  {
   "cell_type": "code",
   "execution_count": 72,
   "metadata": {
    "collapsed": false
   },
   "outputs": [
    {
     "name": "stdout",
     "output_type": "stream",
     "text": [
      "                            OLS Regression Results                            \n",
      "==============================================================================\n",
      "Dep. Variable:                   CRIM   R-squared:                       0.400\n",
      "Model:                            OLS   Adj. R-squared:                  0.396\n",
      "Method:                 Least Squares   F-statistic:                     111.6\n",
      "Date:                Wed, 11 Oct 2017   Prob (F-statistic):           2.31e-55\n",
      "Time:                        14:20:43   Log-Likelihood:                -1677.1\n",
      "No. Observations:                 506   AIC:                             3362.\n",
      "Df Residuals:                     502   BIC:                             3379.\n",
      "Df Model:                           3                                         \n",
      "Covariance Type:            nonrobust                                         \n",
      "==============================================================================\n",
      "                 coef    std err          t      P>|t|      [95.0% Conf. Int.]\n",
      "------------------------------------------------------------------------------\n",
      "Intercept     -0.3028      1.025     -0.295      0.768        -2.317     1.711\n",
      "rad[0]        -0.3028      1.025     -0.295      0.768        -2.317     1.711\n",
      "rad[1]         0.5127      1.044      0.491      0.623        -1.538     2.563\n",
      "rad[2]        -0.0752      0.149     -0.506      0.613        -0.367     0.217\n",
      "rad[3]         0.0032      0.005      0.703      0.482        -0.006     0.012\n",
      "==============================================================================\n",
      "Omnibus:                      659.751   Durbin-Watson:                   1.351\n",
      "Prob(Omnibus):                  0.000   Jarque-Bera (JB):            77838.247\n",
      "Skew:                           6.526   Prob(JB):                         0.00\n",
      "Kurtosis:                      62.343   Cond. No.                     1.50e+19\n",
      "==============================================================================\n",
      "\n",
      "Warnings:\n",
      "[1] Standard Errors assume that the covariance matrix of the errors is correctly specified.\n",
      "[2] The smallest eigenvalue is 1.12e-28. This might indicate that there are\n",
      "strong multicollinearity problems or that the design matrix is singular.\n"
     ]
    }
   ],
   "source": [
    "rad = poly.fit_transform(df.loc[:, ['RAD']])\n",
    "lm.rad2 = smf.ols(formula= 'CRIM ~ rad', data =df)\n",
    "result = lm.rad2.fit()\n",
    "print(result.summary())"
   ]
  },
  {
   "cell_type": "code",
   "execution_count": 73,
   "metadata": {
    "collapsed": false
   },
   "outputs": [
    {
     "name": "stdout",
     "output_type": "stream",
     "text": [
      "                            OLS Regression Results                            \n",
      "==============================================================================\n",
      "Dep. Variable:                   CRIM   R-squared:                       0.369\n",
      "Model:                            OLS   Adj. R-squared:                  0.365\n",
      "Method:                 Least Squares   F-statistic:                     97.80\n",
      "Date:                Wed, 11 Oct 2017   Prob (F-statistic):           7.34e-50\n",
      "Time:                        14:20:43   Log-Likelihood:                -1689.9\n",
      "No. Observations:                 506   AIC:                             3388.\n",
      "Df Residuals:                     502   BIC:                             3405.\n",
      "Df Model:                           3                                         \n",
      "Covariance Type:            nonrobust                                         \n",
      "==============================================================================\n",
      "                 coef    std err          t      P>|t|      [95.0% Conf. Int.]\n",
      "------------------------------------------------------------------------------\n",
      "Intercept      9.5918      5.898      1.626      0.105        -1.996    21.179\n",
      "tax[0]         9.5918      5.898      1.626      0.105        -1.996    21.179\n",
      "tax[1]        -0.1533      0.096     -1.602      0.110        -0.341     0.035\n",
      "tax[2]         0.0004      0.000      1.488      0.137        -0.000     0.001\n",
      "tax[3]     -2.204e-07   1.89e-07     -1.167      0.244     -5.91e-07  1.51e-07\n",
      "==============================================================================\n",
      "Omnibus:                      644.161   Durbin-Watson:                   1.293\n",
      "Prob(Omnibus):                  0.000   Jarque-Bera (JB):            69773.211\n",
      "Skew:                           6.278   Prob(JB):                         0.00\n",
      "Kurtosis:                      59.141   Cond. No.                     1.57e+18\n",
      "==============================================================================\n",
      "\n",
      "Warnings:\n",
      "[1] Standard Errors assume that the covariance matrix of the errors is correctly specified.\n",
      "[2] The smallest eigenvalue is 5.22e-18. This might indicate that there are\n",
      "strong multicollinearity problems or that the design matrix is singular.\n"
     ]
    }
   ],
   "source": [
    "tax = poly.fit_transform(df.loc[:, ['TAX']])\n",
    "lm.tax2 = smf.ols(formula= 'CRIM ~ tax', data =df)\n",
    "result = lm.tax2.fit()\n",
    "print(result.summary())"
   ]
  },
  {
   "cell_type": "code",
   "execution_count": 74,
   "metadata": {
    "collapsed": false
   },
   "outputs": [
    {
     "name": "stdout",
     "output_type": "stream",
     "text": [
      "                            OLS Regression Results                            \n",
      "==============================================================================\n",
      "Dep. Variable:                   CRIM   R-squared:                       0.114\n",
      "Model:                            OLS   Adj. R-squared:                  0.108\n",
      "Method:                 Least Squares   F-statistic:                     21.48\n",
      "Date:                Wed, 11 Oct 2017   Prob (F-statistic):           4.17e-13\n",
      "Time:                        14:20:43   Log-Likelihood:                -1775.8\n",
      "No. Observations:                 506   AIC:                             3560.\n",
      "Df Residuals:                     502   BIC:                             3577.\n",
      "Df Model:                           3                                         \n",
      "Covariance Type:            nonrobust                                         \n",
      "==============================================================================\n",
      "                 coef    std err          t      P>|t|      [95.0% Conf. Int.]\n",
      "------------------------------------------------------------------------------\n",
      "Intercept    238.5920     78.397      3.043      0.002        84.564   392.620\n",
      "ptratio[0]   238.5920     78.397      3.043      0.002        84.564   392.620\n",
      "ptratio[1]   -82.3605     27.644     -2.979      0.003      -136.673   -28.048\n",
      "ptratio[2]     4.6353      1.608      2.882      0.004         1.475     7.795\n",
      "ptratio[3]    -0.0848      0.031     -2.743      0.006        -0.145    -0.024\n",
      "==============================================================================\n",
      "Omnibus:                      572.356   Durbin-Watson:                   0.945\n",
      "Prob(Omnibus):                  0.000   Jarque-Bera (JB):            36070.763\n",
      "Skew:                           5.294   Prob(JB):                         0.00\n",
      "Kurtosis:                      42.985   Cond. No.                     9.80e+17\n",
      "==============================================================================\n",
      "\n",
      "Warnings:\n",
      "[1] Standard Errors assume that the covariance matrix of the errors is correctly specified.\n",
      "[2] The smallest eigenvalue is 2.48e-26. This might indicate that there are\n",
      "strong multicollinearity problems or that the design matrix is singular.\n"
     ]
    }
   ],
   "source": [
    "ptratio = poly.fit_transform(df.loc[:, ['PTRATIO']])\n",
    "lm.ptratio2 = smf.ols(formula= 'CRIM ~ ptratio', data =df)\n",
    "result = lm.ptratio2.fit()\n",
    "print(result.summary())"
   ]
  },
  {
   "cell_type": "code",
   "execution_count": 78,
   "metadata": {
    "collapsed": false
   },
   "outputs": [
    {
     "name": "stdout",
     "output_type": "stream",
     "text": [
      "                            OLS Regression Results                            \n",
      "==============================================================================\n",
      "Dep. Variable:                   CRIM   R-squared:                       0.150\n",
      "Model:                            OLS   Adj. R-squared:                  0.145\n",
      "Method:                 Least Squares   F-statistic:                     29.49\n",
      "Date:                Wed, 11 Oct 2017   Prob (F-statistic):           1.41e-17\n",
      "Time:                        14:24:03   Log-Likelihood:                -1765.3\n",
      "No. Observations:                 506   AIC:                             3539.\n",
      "Df Residuals:                     502   BIC:                             3555.\n",
      "Df Model:                           3                                         \n",
      "Covariance Type:            nonrobust                                         \n",
      "==============================================================================\n",
      "                 coef    std err          t      P>|t|      [95.0% Conf. Int.]\n",
      "------------------------------------------------------------------------------\n",
      "Intercept      9.1319      1.152      7.924      0.000         6.868    11.396\n",
      "b[0]           9.1319      1.152      7.924      0.000         6.868    11.396\n",
      "b[1]          -0.0836      0.056     -1.483      0.139        -0.194     0.027\n",
      "b[2]           0.0002      0.000      0.716      0.474        -0.000     0.001\n",
      "b[3]       -2.652e-07   4.36e-07     -0.608      0.544     -1.12e-06  5.92e-07\n",
      "==============================================================================\n",
      "Omnibus:                      591.816   Durbin-Watson:                   0.983\n",
      "Prob(Omnibus):                  0.000   Jarque-Bera (JB):            43468.746\n",
      "Skew:                           5.544   Prob(JB):                         0.00\n",
      "Kurtosis:                      47.032   Cond. No.                     3.32e+18\n",
      "==============================================================================\n",
      "\n",
      "Warnings:\n",
      "[1] Standard Errors assume that the covariance matrix of the errors is correctly specified.\n",
      "[2] The smallest eigenvalue is 1.39e-19. This might indicate that there are\n",
      "strong multicollinearity problems or that the design matrix is singular.\n"
     ]
    }
   ],
   "source": [
    "b = poly.fit_transform(df.loc[:, ['BLACK']])\n",
    "lm.b2 = smf.ols(formula= 'CRIM ~ b', data =df)\n",
    "result = lm.b2.fit()\n",
    "print(result.summary())"
   ]
  },
  {
   "cell_type": "code",
   "execution_count": 76,
   "metadata": {
    "collapsed": false
   },
   "outputs": [
    {
     "name": "stdout",
     "output_type": "stream",
     "text": [
      "                            OLS Regression Results                            \n",
      "==============================================================================\n",
      "Dep. Variable:                   CRIM   R-squared:                       0.218\n",
      "Model:                            OLS   Adj. R-squared:                  0.213\n",
      "Method:                 Least Squares   F-statistic:                     46.63\n",
      "Date:                Wed, 11 Oct 2017   Prob (F-statistic):           1.35e-26\n",
      "Time:                        14:20:44   Log-Likelihood:                -1744.2\n",
      "No. Observations:                 506   AIC:                             3496.\n",
      "Df Residuals:                     502   BIC:                             3513.\n",
      "Df Model:                           3                                         \n",
      "Covariance Type:            nonrobust                                         \n",
      "==============================================================================\n",
      "                 coef    std err          t      P>|t|      [95.0% Conf. Int.]\n",
      "------------------------------------------------------------------------------\n",
      "Intercept      0.6005      1.014      0.592      0.554        -1.392     2.593\n",
      "lstat[0]       0.6005      1.014      0.592      0.554        -1.392     2.593\n",
      "lstat[1]      -0.4491      0.465     -0.966      0.335        -1.362     0.464\n",
      "lstat[2]       0.0558      0.030      1.852      0.065        -0.003     0.115\n",
      "lstat[3]      -0.0009      0.001     -1.517      0.130        -0.002     0.000\n",
      "==============================================================================\n",
      "Omnibus:                      607.734   Durbin-Watson:                   1.239\n",
      "Prob(Omnibus):                  0.000   Jarque-Bera (JB):            53621.219\n",
      "Skew:                           5.726   Prob(JB):                         0.00\n",
      "Kurtosis:                      52.114   Cond. No.                     4.65e+17\n",
      "==============================================================================\n",
      "\n",
      "Warnings:\n",
      "[1] Standard Errors assume that the covariance matrix of the errors is correctly specified.\n",
      "[2] The smallest eigenvalue is 1.69e-25. This might indicate that there are\n",
      "strong multicollinearity problems or that the design matrix is singular.\n"
     ]
    }
   ],
   "source": [
    "lstat = poly.fit_transform(df.loc[:, ['LSTAT']])\n",
    "lm.lstat2 = smf.ols(formula= 'CRIM ~ lstat', data =df)\n",
    "result = lm.lstat2.fit()\n",
    "print(result.summary())"
   ]
  },
  {
   "cell_type": "code",
   "execution_count": 77,
   "metadata": {
    "collapsed": false
   },
   "outputs": [
    {
     "name": "stdout",
     "output_type": "stream",
     "text": [
      "                            OLS Regression Results                            \n",
      "==============================================================================\n",
      "Dep. Variable:                   CRIM   R-squared:                       0.420\n",
      "Model:                            OLS   Adj. R-squared:                  0.417\n",
      "Method:                 Least Squares   F-statistic:                     121.3\n",
      "Date:                Wed, 11 Oct 2017   Prob (F-statistic):           4.45e-59\n",
      "Time:                        14:20:44   Log-Likelihood:                -1668.5\n",
      "No. Observations:                 506   AIC:                             3345.\n",
      "Df Residuals:                     502   BIC:                             3362.\n",
      "Df Model:                           3                                         \n",
      "Covariance Type:            nonrobust                                         \n",
      "==============================================================================\n",
      "                 coef    std err          t      P>|t|      [95.0% Conf. Int.]\n",
      "------------------------------------------------------------------------------\n",
      "Intercept     26.5828      1.678     15.840      0.000        23.286    29.880\n",
      "medv[0]       26.5828      1.678     15.840      0.000        23.286    29.880\n",
      "medv[1]       -5.0948      0.434    -11.744      0.000        -5.947    -4.242\n",
      "medv[2]        0.1555      0.017      9.046      0.000         0.122     0.189\n",
      "medv[3]       -0.0015      0.000     -7.312      0.000        -0.002    -0.001\n",
      "==============================================================================\n",
      "Omnibus:                      569.730   Durbin-Watson:                   1.359\n",
      "Prob(Omnibus):                  0.000   Jarque-Bera (JB):            47929.717\n",
      "Skew:                           5.106   Prob(JB):                         0.00\n",
      "Kurtosis:                      49.573   Cond. No.                     3.20e+18\n",
      "==============================================================================\n",
      "\n",
      "Warnings:\n",
      "[1] Standard Errors assume that the covariance matrix of the errors is correctly specified.\n",
      "[2] The smallest eigenvalue is 4.96e-26. This might indicate that there are\n",
      "strong multicollinearity problems or that the design matrix is singular.\n"
     ]
    }
   ],
   "source": [
    "medv = poly.fit_transform(df.loc[:, ['MEDV']])\n",
    "lm.medv2 = smf.ols(formula= 'CRIM ~ medv', data =df)\n",
    "result = lm.medv2.fit()\n",
    "print(result.summary())"
   ]
  },
  {
   "cell_type": "code",
   "execution_count": null,
   "metadata": {
    "collapsed": true
   },
   "outputs": [],
   "source": [
    "#For coefficients ZN, CHAS, RM, RAD, TAX, BLACK ADN LSTAT are not statistically significant. \n",
    "#For coefficients INDUS, NOX, AGE, DIS, PTRATIO AND MEDV are statitically significant with non-linear relationship."
   ]
  },
  {
   "cell_type": "code",
   "execution_count": null,
   "metadata": {
    "collapsed": true
   },
   "outputs": [],
   "source": []
  }
 ],
 "metadata": {
  "kernelspec": {
   "display_name": "Python 3",
   "language": "python",
   "name": "python3"
  },
  "language_info": {
   "codemirror_mode": {
    "name": "ipython",
    "version": 3
   },
   "file_extension": ".py",
   "mimetype": "text/x-python",
   "name": "python",
   "nbconvert_exporter": "python",
   "pygments_lexer": "ipython3",
   "version": "3.6.0"
  }
 },
 "nbformat": 4,
 "nbformat_minor": 2
}
