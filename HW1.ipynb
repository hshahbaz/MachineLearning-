{
 "cells": [
  {
   "cell_type": "code",
   "execution_count": 225,
   "metadata": {
    "collapsed": false
   },
   "outputs": [],
   "source": [
    "import numpy as py\n",
    "import pandas as pd\n",
    "import csv\n",
    "import matplotlib.pyplot as plt\n",
    " "
   ]
  },
  {
   "cell_type": "code",
   "execution_count": 238,
   "metadata": {
    "collapsed": false
   },
   "outputs": [
    {
     "name": "stdout",
     "output_type": "stream",
     "text": [
      "      mpg  cylinders  displacement  horsepower  weight  acceleration  year  \\\n",
      "1    18.0          8         307.0         130    3504          12.0    70   \n",
      "2    15.0          8         350.0         165    3693          11.5    70   \n",
      "3    18.0          8         318.0         150    3436          11.0    70   \n",
      "4    16.0          8         304.0         150    3433          12.0    70   \n",
      "5    17.0          8         302.0         140    3449          10.5    70   \n",
      "6    15.0          8         429.0         198    4341          10.0    70   \n",
      "7    14.0          8         454.0         220    4354           9.0    70   \n",
      "8    14.0          8         440.0         215    4312           8.5    70   \n",
      "9    14.0          8         455.0         225    4425          10.0    70   \n",
      "10   15.0          8         390.0         190    3850           8.5    70   \n",
      "11   15.0          8         383.0         170    3563          10.0    70   \n",
      "12   14.0          8         340.0         160    3609           8.0    70   \n",
      "13   15.0          8         400.0         150    3761           9.5    70   \n",
      "14   14.0          8         455.0         225    3086          10.0    70   \n",
      "15   24.0          4         113.0          95    2372          15.0    70   \n",
      "16   22.0          6         198.0          95    2833          15.5    70   \n",
      "17   18.0          6         199.0          97    2774          15.5    70   \n",
      "18   21.0          6         200.0          85    2587          16.0    70   \n",
      "19   27.0          4          97.0          88    2130          14.5    70   \n",
      "20   26.0          4          97.0          46    1835          20.5    70   \n",
      "21   25.0          4         110.0          87    2672          17.5    70   \n",
      "22   24.0          4         107.0          90    2430          14.5    70   \n",
      "23   25.0          4         104.0          95    2375          17.5    70   \n",
      "24   26.0          4         121.0         113    2234          12.5    70   \n",
      "25   21.0          6         199.0          90    2648          15.0    70   \n",
      "26   10.0          8         360.0         215    4615          14.0    70   \n",
      "27   10.0          8         307.0         200    4376          15.0    70   \n",
      "28   11.0          8         318.0         210    4382          13.5    70   \n",
      "29    9.0          8         304.0         193    4732          18.5    70   \n",
      "30   27.0          4          97.0          88    2130          14.5    71   \n",
      "..    ...        ...           ...         ...     ...           ...   ...   \n",
      "368  28.0          4         112.0          88    2605          19.6    82   \n",
      "369  27.0          4         112.0          88    2640          18.6    82   \n",
      "370  34.0          4         112.0          88    2395          18.0    82   \n",
      "371  31.0          4         112.0          85    2575          16.2    82   \n",
      "372  29.0          4         135.0          84    2525          16.0    82   \n",
      "373  27.0          4         151.0          90    2735          18.0    82   \n",
      "374  24.0          4         140.0          92    2865          16.4    82   \n",
      "375  36.0          4         105.0          74    1980          15.3    82   \n",
      "376  37.0          4          91.0          68    2025          18.2    82   \n",
      "377  31.0          4          91.0          68    1970          17.6    82   \n",
      "378  38.0          4         105.0          63    2125          14.7    82   \n",
      "379  36.0          4          98.0          70    2125          17.3    82   \n",
      "380  36.0          4         120.0          88    2160          14.5    82   \n",
      "381  36.0          4         107.0          75    2205          14.5    82   \n",
      "382  34.0          4         108.0          70    2245          16.9    82   \n",
      "383  38.0          4          91.0          67    1965          15.0    82   \n",
      "384  32.0          4          91.0          67    1965          15.7    82   \n",
      "385  38.0          4          91.0          67    1995          16.2    82   \n",
      "386  25.0          6         181.0         110    2945          16.4    82   \n",
      "387  38.0          6         262.0          85    3015          17.0    82   \n",
      "388  26.0          4         156.0          92    2585          14.5    82   \n",
      "389  22.0          6         232.0         112    2835          14.7    82   \n",
      "390  32.0          4         144.0          96    2665          13.9    82   \n",
      "391  36.0          4         135.0          84    2370          13.0    82   \n",
      "392  27.0          4         151.0          90    2950          17.3    82   \n",
      "393  27.0          4         140.0          86    2790          15.6    82   \n",
      "394  44.0          4          97.0          52    2130          24.6    82   \n",
      "395  32.0          4         135.0          84    2295          11.6    82   \n",
      "396  28.0          4         120.0          79    2625          18.6    82   \n",
      "397  31.0          4         119.0          82    2720          19.4    82   \n",
      "\n",
      "     origin                               name  \n",
      "1         1          chevrolet chevelle malibu  \n",
      "2         1                  buick skylark 320  \n",
      "3         1                 plymouth satellite  \n",
      "4         1                      amc rebel sst  \n",
      "5         1                        ford torino  \n",
      "6         1                   ford galaxie 500  \n",
      "7         1                   chevrolet impala  \n",
      "8         1                  plymouth fury iii  \n",
      "9         1                   pontiac catalina  \n",
      "10        1                 amc ambassador dpl  \n",
      "11        1                dodge challenger se  \n",
      "12        1                 plymouth 'cuda 340  \n",
      "13        1              chevrolet monte carlo  \n",
      "14        1            buick estate wagon (sw)  \n",
      "15        3              toyota corona mark ii  \n",
      "16        1                    plymouth duster  \n",
      "17        1                         amc hornet  \n",
      "18        1                      ford maverick  \n",
      "19        3                       datsun pl510  \n",
      "20        2       volkswagen 1131 deluxe sedan  \n",
      "21        2                        peugeot 504  \n",
      "22        2                        audi 100 ls  \n",
      "23        2                           saab 99e  \n",
      "24        2                           bmw 2002  \n",
      "25        1                        amc gremlin  \n",
      "26        1                          ford f250  \n",
      "27        1                          chevy c20  \n",
      "28        1                         dodge d200  \n",
      "29        1                           hi 1200d  \n",
      "30        3                       datsun pl510  \n",
      "..      ...                                ...  \n",
      "368       1                 chevrolet cavalier  \n",
      "369       1           chevrolet cavalier wagon  \n",
      "370       1          chevrolet cavalier 2-door  \n",
      "371       1         pontiac j2000 se hatchback  \n",
      "372       1                     dodge aries se  \n",
      "373       1                    pontiac phoenix  \n",
      "374       1               ford fairmont futura  \n",
      "375       2                volkswagen rabbit l  \n",
      "376       3                 mazda glc custom l  \n",
      "377       3                   mazda glc custom  \n",
      "378       1             plymouth horizon miser  \n",
      "379       1                     mercury lynx l  \n",
      "380       3                   nissan stanza xe  \n",
      "381       3                       honda accord  \n",
      "382       3                     toyota corolla  \n",
      "383       3                        honda civic  \n",
      "384       3                 honda civic (auto)  \n",
      "385       3                      datsun 310 gx  \n",
      "386       1              buick century limited  \n",
      "387       1  oldsmobile cutlass ciera (diesel)  \n",
      "388       1         chrysler lebaron medallion  \n",
      "389       1                     ford granada l  \n",
      "390       3                   toyota celica gt  \n",
      "391       1                  dodge charger 2.2  \n",
      "392       1                   chevrolet camaro  \n",
      "393       1                    ford mustang gl  \n",
      "394       2                          vw pickup  \n",
      "395       1                      dodge rampage  \n",
      "396       1                        ford ranger  \n",
      "397       1                         chevy s-10  \n",
      "\n",
      "[392 rows x 9 columns]\n"
     ]
    }
   ],
   "source": [
    "with open('E:/UChicago Courses/Autumn Quarter 2017/Machine Learning/Assignments/HW1/Auto.csv', newline ='') as data:\n",
    "        df = pd.read_csv(data, index_col=0, parse_dates=True)\n",
    "        print(df)\n",
    "    \n",
    "       \n"
   ]
  },
  {
   "cell_type": "code",
   "execution_count": 79,
   "metadata": {
    "collapsed": false
   },
   "outputs": [],
   "source": [
    "#Which of the predictors are quantitative, and which are qualitative?\n",
    "\n",
    "    #Qualitative --> Name and Origin. Origin only takes 1,2 and 3 as values and can be treated as factor.\n",
    "    #Quantitative  --> mpg,cylinders,displacement,horsepower,weight,acceleration and year are quantitative variables. \n"
   ]
  },
  {
   "cell_type": "code",
   "execution_count": 239,
   "metadata": {
    "collapsed": false
   },
   "outputs": [
    {
     "name": "stdout",
     "output_type": "stream",
     "text": [
      "Maximum values are:\n",
      "mpg               46.6\n",
      "cylinders          8.0\n",
      "displacement     455.0\n",
      "horsepower       230.0\n",
      "weight          5140.0\n",
      "accelaration       NaN\n",
      "year              82.0\n",
      "dtype: float64\n",
      "Minimum values are:\n",
      "mpg                9.0\n",
      "cylinders          3.0\n",
      "displacement      68.0\n",
      "horsepower        46.0\n",
      "weight          1613.0\n",
      "accelaration       NaN\n",
      "year              70.0\n",
      "dtype: float64\n"
     ]
    }
   ],
   "source": [
    "#(b) What is the range of each quantitative predictor? You can answer this using the range() function.\n",
    "temp = df.loc[:, ['mpg', 'cylinders', 'displacement', 'horsepower', 'weight', 'accelaration', 'year']]\n",
    "max1 = temp.max()\n",
    "min1 = temp.min()\n",
    "print('Maximum values are:')\n",
    "print(max1) \n",
    "\n",
    "print('Minimum values are:')\n",
    "print(min1)\n"
   ]
  },
  {
   "cell_type": "code",
   "execution_count": 240,
   "metadata": {
    "collapsed": false,
    "scrolled": true
   },
   "outputs": [
    {
     "name": "stdout",
     "output_type": "stream",
     "text": [
      "      mpg  cylinders  displacement  horsepower  weight  acceleration  year\n",
      "0    18.0          8         307.0         130    3504          12.0    70\n",
      "1    15.0          8         350.0         165    3693          11.5    70\n",
      "2    18.0          8         318.0         150    3436          11.0    70\n",
      "3    16.0          8         304.0         150    3433          12.0    70\n",
      "4    17.0          8         302.0         140    3449          10.5    70\n",
      "5    15.0          8         429.0         198    4341          10.0    70\n",
      "6    14.0          8         454.0         220    4354           9.0    70\n",
      "7    14.0          8         440.0         215    4312           8.5    70\n",
      "8    14.0          8         455.0         225    4425          10.0    70\n",
      "9    15.0          8         390.0         190    3850           8.5    70\n",
      "10   15.0          8         383.0         170    3563          10.0    70\n",
      "11   14.0          8         340.0         160    3609           8.0    70\n",
      "12   15.0          8         400.0         150    3761           9.5    70\n",
      "13   14.0          8         455.0         225    3086          10.0    70\n",
      "14   24.0          4         113.0          95    2372          15.0    70\n",
      "15   22.0          6         198.0          95    2833          15.5    70\n",
      "16   18.0          6         199.0          97    2774          15.5    70\n",
      "17   21.0          6         200.0          85    2587          16.0    70\n",
      "18   27.0          4          97.0          88    2130          14.5    70\n",
      "19   26.0          4          97.0          46    1835          20.5    70\n",
      "20   25.0          4         110.0          87    2672          17.5    70\n",
      "21   24.0          4         107.0          90    2430          14.5    70\n",
      "22   25.0          4         104.0          95    2375          17.5    70\n",
      "23   26.0          4         121.0         113    2234          12.5    70\n",
      "24   21.0          6         199.0          90    2648          15.0    70\n",
      "25   10.0          8         360.0         215    4615          14.0    70\n",
      "26   10.0          8         307.0         200    4376          15.0    70\n",
      "27   11.0          8         318.0         210    4382          13.5    70\n",
      "28    9.0          8         304.0         193    4732          18.5    70\n",
      "29   27.0          4          97.0          88    2130          14.5    71\n",
      "..    ...        ...           ...         ...     ...           ...   ...\n",
      "362  28.0          4         112.0          88    2605          19.6    82\n",
      "363  27.0          4         112.0          88    2640          18.6    82\n",
      "364  34.0          4         112.0          88    2395          18.0    82\n",
      "365  31.0          4         112.0          85    2575          16.2    82\n",
      "366  29.0          4         135.0          84    2525          16.0    82\n",
      "367  27.0          4         151.0          90    2735          18.0    82\n",
      "368  24.0          4         140.0          92    2865          16.4    82\n",
      "369  36.0          4         105.0          74    1980          15.3    82\n",
      "370  37.0          4          91.0          68    2025          18.2    82\n",
      "371  31.0          4          91.0          68    1970          17.6    82\n",
      "372  38.0          4         105.0          63    2125          14.7    82\n",
      "373  36.0          4          98.0          70    2125          17.3    82\n",
      "374  36.0          4         120.0          88    2160          14.5    82\n",
      "375  36.0          4         107.0          75    2205          14.5    82\n",
      "376  34.0          4         108.0          70    2245          16.9    82\n",
      "377  38.0          4          91.0          67    1965          15.0    82\n",
      "378  32.0          4          91.0          67    1965          15.7    82\n",
      "379  38.0          4          91.0          67    1995          16.2    82\n",
      "380  25.0          6         181.0         110    2945          16.4    82\n",
      "381  38.0          6         262.0          85    3015          17.0    82\n",
      "382  26.0          4         156.0          92    2585          14.5    82\n",
      "383  22.0          6         232.0         112    2835          14.7    82\n",
      "384  32.0          4         144.0          96    2665          13.9    82\n",
      "385  36.0          4         135.0          84    2370          13.0    82\n",
      "386  27.0          4         151.0          90    2950          17.3    82\n",
      "387  27.0          4         140.0          86    2790          15.6    82\n",
      "388  44.0          4          97.0          52    2130          24.6    82\n",
      "389  32.0          4         135.0          84    2295          11.6    82\n",
      "390  28.0          4         120.0          79    2625          18.6    82\n",
      "391  31.0          4         119.0          82    2720          19.4    82\n",
      "\n",
      "[392 rows x 7 columns]\n"
     ]
    }
   ],
   "source": [
    "#loading only quantitative variables \n",
    "with open('E:/UChicago Courses/Autumn Quarter 2017/Machine Learning/Assignments/HW1/Auto.csv', newline ='') as data_quant:\n",
    "    df2 = pd.read_csv(data_quant,sep=\",\", usecols=[1,2,3,4,5,6,7])\n",
    "    print(df2)\n"
   ]
  },
  {
   "cell_type": "code",
   "execution_count": 118,
   "metadata": {
    "collapsed": false
   },
   "outputs": [
    {
     "data": {
      "text/plain": [
       "mpg               23.445918\n",
       "cylinders          5.471939\n",
       "displacement     194.411990\n",
       "horsepower       104.469388\n",
       "weight          2977.584184\n",
       "acceleration      15.541327\n",
       "year              75.979592\n",
       "dtype: float64"
      ]
     },
     "execution_count": 118,
     "metadata": {},
     "output_type": "execute_result"
    }
   ],
   "source": [
    "py.mean(df2)"
   ]
  },
  {
   "cell_type": "code",
   "execution_count": 119,
   "metadata": {
    "collapsed": false
   },
   "outputs": [
    {
     "data": {
      "text/plain": [
       "mpg               7.795046\n",
       "cylinders         1.703606\n",
       "displacement    104.510444\n",
       "horsepower       38.442033\n",
       "weight          848.318447\n",
       "acceleration      2.755343\n",
       "year              3.679035\n",
       "dtype: float64"
      ]
     },
     "execution_count": 119,
     "metadata": {},
     "output_type": "execute_result"
    }
   ],
   "source": [
    "py.std(df2)"
   ]
  },
  {
   "cell_type": "code",
   "execution_count": 241,
   "metadata": {
    "collapsed": false
   },
   "outputs": [
    {
     "name": "stdout",
     "output_type": "stream",
     "text": [
      "      mpg  cylinders  displacement  horsepower  weight  acceleration  year\n",
      "0    18.0          8         307.0         130    3504          12.0    70\n",
      "1    15.0          8         350.0         165    3693          11.5    70\n",
      "2    18.0          8         318.0         150    3436          11.0    70\n",
      "3    16.0          8         304.0         150    3433          12.0    70\n",
      "4    17.0          8         302.0         140    3449          10.5    70\n",
      "5    15.0          8         429.0         198    4341          10.0    70\n",
      "6    14.0          8         454.0         220    4354           9.0    70\n",
      "7    14.0          8         440.0         215    4312           8.5    70\n",
      "8    14.0          8         455.0         225    4425          10.0    70\n",
      "84   13.0          8         350.0         175    4100          13.0    73\n",
      "85   14.0          8         304.0         150    3672          11.5    73\n",
      "86   13.0          8         350.0         145    3988          13.0    73\n",
      "87   14.0          8         302.0         137    4042          14.5    73\n",
      "88   15.0          8         318.0         150    3777          12.5    73\n",
      "89   12.0          8         429.0         198    4952          11.5    73\n",
      "90   13.0          8         400.0         150    4464          12.0    73\n",
      "91   13.0          8         351.0         158    4363          13.0    73\n",
      "92   14.0          8         318.0         150    4237          14.5    73\n",
      "93   13.0          8         440.0         215    4735          11.0    73\n",
      "94   12.0          8         455.0         225    4951          11.0    73\n",
      "95   13.0          8         360.0         175    3821          11.0    73\n",
      "96   18.0          6         225.0         105    3121          16.5    73\n",
      "97   16.0          6         250.0         100    3278          18.0    73\n",
      "98   18.0          6         232.0         100    2945          16.0    73\n",
      "99   18.0          6         250.0          88    3021          16.5    73\n",
      "100  23.0          6         198.0          95    2904          16.0    73\n",
      "101  26.0          4          97.0          46    1950          21.0    73\n",
      "102  11.0          8         400.0         150    4997          14.0    73\n",
      "103  12.0          8         400.0         167    4906          12.5    73\n",
      "104  13.0          8         360.0         170    4654          13.0    73\n",
      "..    ...        ...           ...         ...     ...           ...   ...\n",
      "362  28.0          4         112.0          88    2605          19.6    82\n",
      "363  27.0          4         112.0          88    2640          18.6    82\n",
      "364  34.0          4         112.0          88    2395          18.0    82\n",
      "365  31.0          4         112.0          85    2575          16.2    82\n",
      "366  29.0          4         135.0          84    2525          16.0    82\n",
      "367  27.0          4         151.0          90    2735          18.0    82\n",
      "368  24.0          4         140.0          92    2865          16.4    82\n",
      "369  36.0          4         105.0          74    1980          15.3    82\n",
      "370  37.0          4          91.0          68    2025          18.2    82\n",
      "371  31.0          4          91.0          68    1970          17.6    82\n",
      "372  38.0          4         105.0          63    2125          14.7    82\n",
      "373  36.0          4          98.0          70    2125          17.3    82\n",
      "374  36.0          4         120.0          88    2160          14.5    82\n",
      "375  36.0          4         107.0          75    2205          14.5    82\n",
      "376  34.0          4         108.0          70    2245          16.9    82\n",
      "377  38.0          4          91.0          67    1965          15.0    82\n",
      "378  32.0          4          91.0          67    1965          15.7    82\n",
      "379  38.0          4          91.0          67    1995          16.2    82\n",
      "380  25.0          6         181.0         110    2945          16.4    82\n",
      "381  38.0          6         262.0          85    3015          17.0    82\n",
      "382  26.0          4         156.0          92    2585          14.5    82\n",
      "383  22.0          6         232.0         112    2835          14.7    82\n",
      "384  32.0          4         144.0          96    2665          13.9    82\n",
      "385  36.0          4         135.0          84    2370          13.0    82\n",
      "386  27.0          4         151.0          90    2950          17.3    82\n",
      "387  27.0          4         140.0          86    2790          15.6    82\n",
      "388  44.0          4          97.0          52    2130          24.6    82\n",
      "389  32.0          4         135.0          84    2295          11.6    82\n",
      "390  28.0          4         120.0          79    2625          18.6    82\n",
      "391  31.0          4         119.0          82    2720          19.4    82\n",
      "\n",
      "[317 rows x 7 columns]\n",
      "Minimum values are:\n",
      "mpg               11.0\n",
      "cylinders          3.0\n",
      "displacement      68.0\n",
      "horsepower        46.0\n",
      "weight          1649.0\n",
      "accelaration       NaN\n",
      "year              70.0\n",
      "dtype: float64\n",
      "Maximum values are:\n",
      "mpg               46.6\n",
      "cylinders          8.0\n",
      "displacement     455.0\n",
      "horsepower       230.0\n",
      "weight          4997.0\n",
      "accelaration       NaN\n",
      "year              82.0\n",
      "dtype: float64\n",
      "New Mean is:\n"
     ]
    },
    {
     "data": {
      "text/plain": [
       "mpg               24.368454\n",
       "cylinders          5.381703\n",
       "displacement     187.753943\n",
       "horsepower       100.955836\n",
       "weight          2939.643533\n",
       "accelaration            NaN\n",
       "year              77.132492\n",
       "dtype: float64"
      ]
     },
     "execution_count": 241,
     "metadata": {},
     "output_type": "execute_result"
    }
   ],
   "source": [
    "with open('E:/UChicago Courses/Autumn Quarter 2017/Machine Learning/Assignments/HW1/Auto.csv', newline ='') as data:\n",
    "        output = pd.read_csv(data, sep=\",\", usecols=[1,2,3,4,5,6,7])\n",
    "        res =  output.drop(output.index[9:84])\n",
    "        print(res)\n",
    "        \n",
    "#RANGE \n",
    "temp = res.loc[:, ['mpg', 'cylinders', 'displacement', 'horsepower', 'weight', 'accelaration', 'year']]\n",
    "min1 = temp.min()\n",
    "print('Minimum values are:')\n",
    "print(min1)\n",
    "\n",
    "max1 = temp.max()\n",
    "print('Maximum values are:')\n",
    "print(max1) \n",
    "\n",
    "\n",
    "#MEAN \n",
    "print('New Mean is:')\n",
    "py.mean(temp)\n"
   ]
  },
  {
   "cell_type": "code",
   "execution_count": 242,
   "metadata": {
    "collapsed": false
   },
   "outputs": [
    {
     "name": "stdout",
     "output_type": "stream",
     "text": [
      "New S.D is:\n"
     ]
    },
    {
     "data": {
      "text/plain": [
       "mpg               7.868458\n",
       "cylinders         1.655517\n",
       "displacement     99.781730\n",
       "horsepower       35.838904\n",
       "weight          811.366835\n",
       "accelaration           NaN\n",
       "year              3.105117\n",
       "dtype: float64"
      ]
     },
     "execution_count": 242,
     "metadata": {},
     "output_type": "execute_result"
    }
   ],
   "source": [
    "\n",
    "#STANDARD DEVIATION\n",
    "print('New S.D is:')\n",
    "py.std(temp)"
   ]
  },
  {
   "cell_type": "code",
   "execution_count": 243,
   "metadata": {
    "collapsed": false
   },
   "outputs": [
    {
     "data": {
      "image/png": "[encoded data removed]",
      "text/plain": [
       "<matplotlib.figure.Figure at 0x292d69aef28>"
      ]
     },
     "metadata": {},
     "output_type": "display_data"
    },
    {
     "data": {
      "image/png": "[encoded data removed]",
      "text/plain": [
       "<matplotlib.figure.Figure at 0x292d69ae5f8>"
      ]
     },
     "metadata": {},
     "output_type": "display_data"
    }
   ],
   "source": [
    "df2.hist(column='mpg')\n",
    "df2.hist(column='cylinders')\n",
    "plt.show()"
   ]
  },
  {
   "cell_type": "code",
   "execution_count": 244,
   "metadata": {
    "collapsed": false
   },
   "outputs": [
    {
     "data": {
      "image/png": "[encoded data removed]",
      "text/plain": [
       "<matplotlib.figure.Figure at 0x292d69ae4a8>"
      ]
     },
     "metadata": {},
     "output_type": "display_data"
    }
   ],
   "source": [
    "axes = pd.tools.plotting.scatter_matrix(df2, figsize=(6, 6),alpha=0.5)\n",
    "plt.tight_layout()\n",
    "plt.show()\n"
   ]
  },
  {
   "cell_type": "code",
   "execution_count": 245,
   "metadata": {
    "collapsed": true
   },
   "outputs": [],
   "source": [
    "#We seem to get more mileage per gallon on a 4 cyl vehicle than the others. \n",
    "#Weight, displacement and horsepower seem to have an inverse effect with mpg as can be seen from the downward slopes. \n",
    "#We see an overall increase in mpg over the years. Almost doubled in one decade. "
   ]
  },
  {
   "cell_type": "code",
   "execution_count": 246,
   "metadata": {
    "collapsed": false
   },
   "outputs": [],
   "source": [
    "#Suppose that we wish to predict gas mileage (mpg) on the basis of the other variables. Do your plots suggest that any of the \n",
    "#other variables might be useful in predicting mpg? Justify your answer.\n",
    "\n",
    "#ANSWER:\n",
    "#From the plots above, the cylinders, horsepower, year and origin can be used as predictors for mpg\n",
    "\n"
   ]
  }
 ],
 "metadata": {
  "kernelspec": {
   "display_name": "Python 3",
   "language": "python",
   "name": "python3"
  },
  "language_info": {
   "codemirror_mode": {
    "name": "ipython",
    "version": 3
   },
   "file_extension": ".py",
   "mimetype": "text/x-python",
   "name": "python",
   "nbconvert_exporter": "python",
   "pygments_lexer": "ipython3",
   "version": "3.6.0"
  }
 },
 "nbformat": 4,
 "nbformat_minor": 2
}
